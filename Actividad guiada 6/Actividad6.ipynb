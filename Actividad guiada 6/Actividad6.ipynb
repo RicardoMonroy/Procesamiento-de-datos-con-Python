{
 "cells": [
  {
   "cell_type": "markdown",
   "id": "eb51484d-31b9-4924-bff2-0f519c840aee",
   "metadata": {},
   "source": [
    "# Actividad 6\n",
    "## Ejemplo del uso de una API para procesamiento de datos"
   ]
  },
  {
   "cell_type": "code",
   "execution_count": 4,
   "id": "c1cf7d84-13c0-4f51-856b-31f9708025bd",
   "metadata": {},
   "outputs": [
    {
     "name": "stdout",
     "output_type": "stream",
     "text": [
      "   userId  id                                              title  \\\n",
      "0       1   1  sunt aut facere repellat provident occaecati e...   \n",
      "1       1   2                                       qui est esse   \n",
      "2       1   3  ea molestias quasi exercitationem repellat qui...   \n",
      "3       1   4                               eum et est occaecati   \n",
      "4       1   5                                 nesciunt quas odio   \n",
      "\n",
      "                                                body  \n",
      "0  quia et suscipit\\nsuscipit recusandae consequu...  \n",
      "1  est rerum tempore vitae\\nsequi sint nihil repr...  \n",
      "2  et iusto sed quo iure\\nvoluptatem occaecati om...  \n",
      "3  ullam et saepe reiciendis voluptatem adipisci\\...  \n",
      "4  repudiandae veniam quaerat sunt sed\\nalias aut...  \n"
     ]
    }
   ],
   "source": [
    "import requests\n",
    "import pandas as pd\n",
    "\n",
    "url = 'https://jsonplaceholder.typicode.com/posts'\n",
    "\n",
    "response = requests.get(url)\n",
    "\n",
    "if response.status_code == 200:\n",
    "    data = response.json()\n",
    "    df = pd.DataFrame(data)\n",
    "    print(df.head())\n",
    "else:\n",
    "    print(f\"Error al hacer la solicitud: {response.status_code}\")\n"
   ]
  },
  {
   "cell_type": "markdown",
   "id": "fcbe0170-4368-496d-b5b0-ad48d603e370",
   "metadata": {},
   "source": [
    "## Actividad 1"
   ]
  },
  {
   "cell_type": "code",
   "execution_count": 7,
   "id": "5fd0279c-16e6-442e-9b4d-68177e9a674f",
   "metadata": {},
   "outputs": [
    {
     "name": "stdout",
     "output_type": "stream",
     "text": [
      " * Serving Flask app '__main__'\n",
      " * Debug mode: on\n"
     ]
    },
    {
     "name": "stderr",
     "output_type": "stream",
     "text": [
      "WARNING: This is a development server. Do not use it in a production deployment. Use a production WSGI server instead.\n",
      " * Running on http://127.0.0.1:5000\n",
      "Press CTRL+C to quit\n",
      " * Restarting with stat\n"
     ]
    },
    {
     "ename": "SystemExit",
     "evalue": "1",
     "output_type": "error",
     "traceback": [
      "An exception has occurred, use %tb to see the full traceback.\n",
      "\u001b[1;31mSystemExit\u001b[0m\u001b[1;31m:\u001b[0m 1\n"
     ]
    }
   ],
   "source": [
    "from flask import Flask, jsonify\n",
    "\n",
    "app = Flask(__name__)\n",
    "\n",
    "@app.route('/api/data', methods=['GET'])\n",
    "def get_data():\n",
    "    data = [\n",
    "        {\n",
    "            'nombre': 'Juán',\n",
    "            'edad': 33,\n",
    "            'es_estudiante': False,\n",
    "            'notas': [86, 90, 78]\n",
    "        },\n",
    "        {\n",
    "            'nombre': 'Sandra',\n",
    "            'edad': 23,\n",
    "            'es_estudiante': True,\n",
    "            'notas': [69, 99, 98]\n",
    "        },\n",
    "        {\n",
    "            'nombre': 'Alicia',\n",
    "            'edad': 43,\n",
    "            'es_estudiante': False,\n",
    "            'notas': [99, 90, 88]\n",
    "        }\n",
    "    ]\n",
    "    return jsonify(data)\n",
    "\n",
    "if __name__ == '__main__':\n",
    "    app.run(debug=True)"
   ]
  },
  {
   "cell_type": "markdown",
   "id": "1fa6c1c3-1166-4ba8-a9be-d6982711fa4e",
   "metadata": {},
   "source": [
    "## Actividad 2"
   ]
  },
  {
   "cell_type": "code",
   "execution_count": 8,
   "id": "c80a311e-49ab-4490-a8b6-3e3edbfa9e3c",
   "metadata": {},
   "outputs": [
    {
     "name": "stdout",
     "output_type": "stream",
     "text": [
      "El resultado es 21\n"
     ]
    }
   ],
   "source": [
    "nums = [2, 1, 6, 5, 7]\n",
    "suma = 0\n",
    "for indice in nums:\n",
    "    suma = suma + indice\n",
    "\n",
    "print(f\"El resultado es {suma}\")"
   ]
  },
  {
   "cell_type": "markdown",
   "id": "f7f1cf90-009b-480d-a95c-0f97b4505da6",
   "metadata": {},
   "source": [
    "## Actividad 3"
   ]
  },
  {
   "cell_type": "code",
   "execution_count": 9,
   "id": "cfee3f8e-3580-4056-af0c-9ce8f7c674ee",
   "metadata": {},
   "outputs": [
    {
     "name": "stdout",
     "output_type": "stream",
     "text": [
      "   I  II  III\n",
      "a  0   1    2\n",
      "b  3   4    5\n",
      "c  6   7    8\n"
     ]
    }
   ],
   "source": [
    "import pandas as pd\n",
    "import numpy as np\n",
    "\n",
    "e1 = pd.DataFrame(np.arange(9).reshape([3, 3]),\n",
    "                  index = [\"a\", \"b\", \"c\"],\n",
    "                  columns = [\"I\", \"II\", \"III\"])\n",
    "print(e1)"
   ]
  },
  {
   "cell_type": "markdown",
   "id": "f0e1d45c-c916-4408-aaa5-aa32aafee0db",
   "metadata": {},
   "source": [
    "## Actividad 4"
   ]
  },
  {
   "cell_type": "code",
   "execution_count": 10,
   "id": "e9a9bc22-9680-4a25-88cf-96dc8877082b",
   "metadata": {},
   "outputs": [
    {
     "name": "stdout",
     "output_type": "stream",
     "text": [
      "   I  II  III\n",
      "a  0   1    2\n",
      "b  3   4    5\n",
      "c  6   7    8\n",
      "d  9  10   11\n"
     ]
    }
   ],
   "source": [
    "import pandas as pd\n",
    "import numpy as np\n",
    "\n",
    "e2 = pd.DataFrame(np.arange(12).reshape([4, 3]),\n",
    "                  index = [\"a\", \"b\", \"c\", \"d\"],\n",
    "                  columns = [\"I\", \"II\", \"III\"])\n",
    "\n",
    "print(e2)"
   ]
  },
  {
   "cell_type": "code",
   "execution_count": 11,
   "id": "6698a45f-372e-4dae-8f21-6a87fde7339a",
   "metadata": {},
   "outputs": [
    {
     "data": {
      "text/html": [
       "<div>\n",
       "<style scoped>\n",
       "    .dataframe tbody tr th:only-of-type {\n",
       "        vertical-align: middle;\n",
       "    }\n",
       "\n",
       "    .dataframe tbody tr th {\n",
       "        vertical-align: top;\n",
       "    }\n",
       "\n",
       "    .dataframe thead th {\n",
       "        text-align: right;\n",
       "    }\n",
       "</style>\n",
       "<table border=\"1\" class=\"dataframe\">\n",
       "  <thead>\n",
       "    <tr style=\"text-align: right;\">\n",
       "      <th></th>\n",
       "      <th>I</th>\n",
       "      <th>II</th>\n",
       "      <th>III</th>\n",
       "    </tr>\n",
       "  </thead>\n",
       "  <tbody>\n",
       "    <tr>\n",
       "      <th>a</th>\n",
       "      <td>0</td>\n",
       "      <td>1</td>\n",
       "      <td>2</td>\n",
       "    </tr>\n",
       "    <tr>\n",
       "      <th>b</th>\n",
       "      <td>3</td>\n",
       "      <td>4</td>\n",
       "      <td>5</td>\n",
       "    </tr>\n",
       "    <tr>\n",
       "      <th>c</th>\n",
       "      <td>6</td>\n",
       "      <td>7</td>\n",
       "      <td>8</td>\n",
       "    </tr>\n",
       "    <tr>\n",
       "      <th>a</th>\n",
       "      <td>0</td>\n",
       "      <td>1</td>\n",
       "      <td>2</td>\n",
       "    </tr>\n",
       "    <tr>\n",
       "      <th>b</th>\n",
       "      <td>3</td>\n",
       "      <td>4</td>\n",
       "      <td>5</td>\n",
       "    </tr>\n",
       "    <tr>\n",
       "      <th>c</th>\n",
       "      <td>6</td>\n",
       "      <td>7</td>\n",
       "      <td>8</td>\n",
       "    </tr>\n",
       "    <tr>\n",
       "      <th>d</th>\n",
       "      <td>9</td>\n",
       "      <td>10</td>\n",
       "      <td>11</td>\n",
       "    </tr>\n",
       "  </tbody>\n",
       "</table>\n",
       "</div>"
      ],
      "text/plain": [
       "   I  II  III\n",
       "a  0   1    2\n",
       "b  3   4    5\n",
       "c  6   7    8\n",
       "a  0   1    2\n",
       "b  3   4    5\n",
       "c  6   7    8\n",
       "d  9  10   11"
      ]
     },
     "execution_count": 11,
     "metadata": {},
     "output_type": "execute_result"
    }
   ],
   "source": [
    "pd.concat([e1, e2])"
   ]
  },
  {
   "cell_type": "markdown",
   "id": "3f8a1234-85fd-4746-afe1-e24d35405b2e",
   "metadata": {},
   "source": [
    "## Actividad 5"
   ]
  },
  {
   "cell_type": "code",
   "execution_count": 18,
   "id": "9dc07e29-f121-4a0c-a83b-d1b664304f92",
   "metadata": {},
   "outputs": [
    {
     "name": "stdout",
     "output_type": "stream",
     "text": [
      "0      La casa\n",
      "1    es grande\n",
      "2        y muy\n",
      "3     bonita .\n",
      "Name: frase_completa, dtype: object\n"
     ]
    }
   ],
   "source": [
    "import pandas as pd\n",
    "\n",
    "serie1 = pd.Series([\"La\",\"es\",\"y\",\"bonita\"])\n",
    "serie2 = pd.Series([\"casa\",\"grande\",\"muy\",\".\"])\n",
    "\n",
    "frase = pd.concat([serie1, serie2], axis=1)\n",
    "\n",
    "frase[\"frase_completa\"] = frase[0] + \" \" + frase[1]\n",
    "print(frase[\"frase_completa\"])"
   ]
  },
  {
   "cell_type": "code",
   "execution_count": 19,
   "id": "b8628a8c-0cd5-40b3-b52a-89850059edb2",
   "metadata": {},
   "outputs": [
    {
     "name": "stdout",
     "output_type": "stream",
     "text": [
      "0           Este\n",
      "1             es\n",
      "2             un\n",
      "3        ejemplo\n",
      "4             de\n",
      "5            una\n",
      "6          frase\n",
      "7    concatenada\n",
      "dtype: object\n"
     ]
    }
   ],
   "source": [
    "import pandas as pd\n",
    "\n",
    "serie1 = pd.Series([\"Este\",\"es\",\"un\",\"ejemplo\"])\n",
    "serie2 = pd.Series([\"de\",\"una\",\"frase\",\"concatenada\"])\n",
    "\n",
    "frase_larga = pd.concat([serie1, serie2], axis=0).reset_index(drop=True)\n",
    "\n",
    "print(frase_larga)"
   ]
  },
  {
   "cell_type": "code",
   "execution_count": null,
   "id": "41789f50-9f4b-4373-ae90-f899194cd2f6",
   "metadata": {},
   "outputs": [],
   "source": []
  }
 ],
 "metadata": {
  "kernelspec": {
   "display_name": "Python 3 (ipykernel)",
   "language": "python",
   "name": "python3"
  },
  "language_info": {
   "codemirror_mode": {
    "name": "ipython",
    "version": 3
   },
   "file_extension": ".py",
   "mimetype": "text/x-python",
   "name": "python",
   "nbconvert_exporter": "python",
   "pygments_lexer": "ipython3",
   "version": "3.12.2"
  }
 },
 "nbformat": 4,
 "nbformat_minor": 5
}
