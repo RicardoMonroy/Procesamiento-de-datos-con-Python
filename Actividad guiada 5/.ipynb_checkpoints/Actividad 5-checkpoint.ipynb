{
 "cells": [
  {
   "cell_type": "markdown",
   "id": "a9345899-b29a-4a18-afd7-b6c1fa601e8c",
   "metadata": {},
   "source": [
    "# Funciones vectorizadas y limpieza de datos\n",
    "## Vectorización en Python\n",
    "La vectorización es una técnica en la que podemos realizar operaciones matemáticas o lógicas a conjuntos completos de datos (vectores, matrices)"
   ]
  },
  {
   "cell_type": "markdown",
   "id": "aad8352d-6d21-4a31-9f4f-f82bff544fed",
   "metadata": {},
   "source": [
    "#### Ejemplo de suma de arrays sin vectorización"
   ]
  },
  {
   "cell_type": "code",
   "execution_count": 1,
   "id": "3c191cd9-0fdd-4f6e-946b-b80e5e7e9811",
   "metadata": {},
   "outputs": [
    {
     "name": "stdout",
     "output_type": "stream",
     "text": [
      "[np.int64(7), np.int64(9), np.int64(11), np.int64(13), np.int64(15)]\n"
     ]
    }
   ],
   "source": [
    "import numpy as np\n",
    "\n",
    "a = np.array([1, 2, 3, 4, 5])\n",
    "b = np.array([6, 7, 8, 9, 10])\n",
    "\n",
    "suma = []\n",
    "for i in range(len(a)):\n",
    "    suma.append(a[i] + b[i])\n",
    "\n",
    "print(suma)"
   ]
  },
  {
   "cell_type": "markdown",
   "id": "396d1428-3ce7-4b27-ad69-697fba429110",
   "metadata": {},
   "source": [
    "### Ejemplo de suma de arrays con vectorización"
   ]
  },
  {
   "cell_type": "code",
   "execution_count": 2,
   "id": "e48720c1-dd77-4477-bee4-9e0aa7bb31af",
   "metadata": {},
   "outputs": [
    {
     "name": "stdout",
     "output_type": "stream",
     "text": [
      "[ 7  9 11 13 15]\n"
     ]
    }
   ],
   "source": [
    "import numpy as np\n",
    "\n",
    "a = np.array([1, 2, 3, 4, 5])\n",
    "b = np.array([6, 7, 8, 9, 10])\n",
    "\n",
    "suma = a + b\n",
    "\n",
    "print(suma)"
   ]
  },
  {
   "cell_type": "markdown",
   "id": "630136e2-1088-4453-8582-c0713d6a7006",
   "metadata": {},
   "source": [
    "### Ejemplo con una función a cada elemento de un array sin vectorización"
   ]
  },
  {
   "cell_type": "code",
   "execution_count": 3,
   "id": "1a8d4fb4-834b-495c-abf0-44846aa8d20e",
   "metadata": {},
   "outputs": [
    {
     "name": "stdout",
     "output_type": "stream",
     "text": [
      "[np.int64(1), np.int64(4), np.int64(9), np.int64(16), np.int64(25)]\n"
     ]
    }
   ],
   "source": [
    "import numpy as np\n",
    "\n",
    "a = np.array([1, 2, 3, 4, 5])\n",
    "cuadrados = []\n",
    "\n",
    "for i in a:\n",
    "    cuadrados.append(i ** 2)\n",
    "\n",
    "print(cuadrados)"
   ]
  },
  {
   "cell_type": "markdown",
   "id": "2f334742-f702-41b5-9754-668560ca8c52",
   "metadata": {},
   "source": [
    "### Ejemplo con una función a cada elemento de un array con vectorización"
   ]
  },
  {
   "cell_type": "code",
   "execution_count": 5,
   "id": "bea952b9-182b-4a5e-b813-baf4891dadad",
   "metadata": {},
   "outputs": [
    {
     "name": "stdout",
     "output_type": "stream",
     "text": [
      "[ 1  4  9 16 25]\n"
     ]
    }
   ],
   "source": [
    "import numpy as np\n",
    "\n",
    "a = np.array([1, 2, 3, 4, 5])\n",
    "cuadrados = a ** 2\n",
    "\n",
    "print(cuadrados)"
   ]
  },
  {
   "cell_type": "markdown",
   "id": "cfed8d8e-7a51-489b-9d87-b0d6114ff9f7",
   "metadata": {},
   "source": [
    "## Limpieza de datos\n"
   ]
  },
  {
   "cell_type": "code",
   "execution_count": 6,
   "id": "913cc1fe-ae33-403b-95df-a46d4f6f183a",
   "metadata": {},
   "outputs": [
    {
     "name": "stdout",
     "output_type": "stream",
     "text": [
      "DataFrame original\n",
      "  Nombre  Edad\n",
      "0   Juan  25.0\n",
      "1    Ana   NaN\n",
      "2   Luis  35.0\n",
      "3   None  28.0\n",
      "DataFrame después de remover valores nulos\n",
      "  Nombre  Edad\n",
      "0   Juan  25.0\n",
      "2   Luis  35.0\n"
     ]
    }
   ],
   "source": [
    "import pandas as pd\n",
    "\n",
    "data = { \"Nombre\": [\"Juan\", \"Ana\", \"Luis\", None], \"Edad\": [25, None, 35, 28] }\n",
    "df = pd.DataFrame(data)\n",
    "\n",
    "print(\"DataFrame original\")\n",
    "print(df)\n",
    "\n",
    "df_limpio = df.dropna()\n",
    "\n",
    "print(\"DataFrame después de remover valores nulos\")\n",
    "print(df_limpio)"
   ]
  },
  {
   "cell_type": "markdown",
   "id": "998c4911-475f-4d32-8668-a0c944263017",
   "metadata": {},
   "source": [
    "### Rellenar valores nulos"
   ]
  },
  {
   "cell_type": "code",
   "execution_count": 7,
   "id": "d484d273-a305-4294-82b3-9857cdf47848",
   "metadata": {},
   "outputs": [
    {
     "name": "stdout",
     "output_type": "stream",
     "text": [
      "DataFrame original\n",
      "  Nombre  Edad\n",
      "0   Juan  25.0\n",
      "1    Ana   NaN\n",
      "2   Luis  35.0\n",
      "3   None  28.0\n",
      "DataFrame después de rellenar valores nulos\n",
      "        Nombre       Edad\n",
      "0         Juan  25.000000\n",
      "1          Ana  29.333333\n",
      "2         Luis  35.000000\n",
      "3  Desconocido  28.000000\n"
     ]
    }
   ],
   "source": [
    "import pandas as pd\n",
    "\n",
    "data = { \"Nombre\": [\"Juan\", \"Ana\", \"Luis\", None], \"Edad\": [25, None, 35, 28] }\n",
    "df = pd.DataFrame(data)\n",
    "\n",
    "print(\"DataFrame original\")\n",
    "print(df)\n",
    "\n",
    "df_rellenado = df.fillna({ \"Nombre\": \"Desconocido\", \"Edad\": df[\"Edad\"].mean() })\n",
    "\n",
    "print(\"DataFrame después de rellenar valores nulos\")\n",
    "print(df_rellenado)"
   ]
  },
  {
   "cell_type": "code",
   "execution_count": 9,
   "id": "7416eec8-21d1-429a-aa45-858adbffc90f",
   "metadata": {},
   "outputs": [
    {
     "name": "stdout",
     "output_type": "stream",
     "text": [
      "Requirement already satisfied: Scikit-Learn in c:\\python312\\lib\\site-packages (1.5.0)\n",
      "Requirement already satisfied: numpy>=1.19.5 in c:\\python312\\lib\\site-packages (from Scikit-Learn) (2.0.0)\n",
      "Requirement already satisfied: scipy>=1.6.0 in c:\\python312\\lib\\site-packages (from Scikit-Learn) (1.14.0)\n",
      "Requirement already satisfied: joblib>=1.2.0 in c:\\python312\\lib\\site-packages (from Scikit-Learn) (1.4.2)\n",
      "Requirement already satisfied: threadpoolctl>=3.1.0 in c:\\python312\\lib\\site-packages (from Scikit-Learn) (3.5.0)\n",
      "Note: you may need to restart the kernel to use updated packages.\n"
     ]
    },
    {
     "name": "stderr",
     "output_type": "stream",
     "text": [
      "\n",
      "[notice] A new release of pip is available: 24.1 -> 24.1.1\n",
      "[notice] To update, run: python.exe -m pip install --upgrade pip\n"
     ]
    }
   ],
   "source": [
    "pip install Scikit-Learn"
   ]
  },
  {
   "cell_type": "code",
   "execution_count": 10,
   "id": "357185cf-ef2a-4995-a334-ded094ef34f1",
   "metadata": {},
   "outputs": [],
   "source": [
    "# pip install seaborn\n",
    "import seaborn as sns"
   ]
  },
  {
   "cell_type": "code",
   "execution_count": 11,
   "id": "cbda89bf-d353-4a02-a0d0-6f89b3ad064d",
   "metadata": {},
   "outputs": [
    {
     "data": {
      "text/html": [
       "<div>\n",
       "<style scoped>\n",
       "    .dataframe tbody tr th:only-of-type {\n",
       "        vertical-align: middle;\n",
       "    }\n",
       "\n",
       "    .dataframe tbody tr th {\n",
       "        vertical-align: top;\n",
       "    }\n",
       "\n",
       "    .dataframe thead th {\n",
       "        text-align: right;\n",
       "    }\n",
       "</style>\n",
       "<table border=\"1\" class=\"dataframe\">\n",
       "  <thead>\n",
       "    <tr style=\"text-align: right;\">\n",
       "      <th></th>\n",
       "      <th>survived</th>\n",
       "      <th>pclass</th>\n",
       "      <th>sex</th>\n",
       "      <th>age</th>\n",
       "      <th>sibsp</th>\n",
       "      <th>parch</th>\n",
       "      <th>fare</th>\n",
       "      <th>embarked</th>\n",
       "      <th>class</th>\n",
       "      <th>who</th>\n",
       "      <th>adult_male</th>\n",
       "      <th>deck</th>\n",
       "      <th>embark_town</th>\n",
       "      <th>alive</th>\n",
       "      <th>alone</th>\n",
       "    </tr>\n",
       "  </thead>\n",
       "  <tbody>\n",
       "    <tr>\n",
       "      <th>0</th>\n",
       "      <td>0</td>\n",
       "      <td>3</td>\n",
       "      <td>male</td>\n",
       "      <td>22.0</td>\n",
       "      <td>1</td>\n",
       "      <td>0</td>\n",
       "      <td>7.2500</td>\n",
       "      <td>S</td>\n",
       "      <td>Third</td>\n",
       "      <td>man</td>\n",
       "      <td>True</td>\n",
       "      <td>NaN</td>\n",
       "      <td>Southampton</td>\n",
       "      <td>no</td>\n",
       "      <td>False</td>\n",
       "    </tr>\n",
       "    <tr>\n",
       "      <th>1</th>\n",
       "      <td>1</td>\n",
       "      <td>1</td>\n",
       "      <td>female</td>\n",
       "      <td>38.0</td>\n",
       "      <td>1</td>\n",
       "      <td>0</td>\n",
       "      <td>71.2833</td>\n",
       "      <td>C</td>\n",
       "      <td>First</td>\n",
       "      <td>woman</td>\n",
       "      <td>False</td>\n",
       "      <td>C</td>\n",
       "      <td>Cherbourg</td>\n",
       "      <td>yes</td>\n",
       "      <td>False</td>\n",
       "    </tr>\n",
       "    <tr>\n",
       "      <th>2</th>\n",
       "      <td>1</td>\n",
       "      <td>3</td>\n",
       "      <td>female</td>\n",
       "      <td>26.0</td>\n",
       "      <td>0</td>\n",
       "      <td>0</td>\n",
       "      <td>7.9250</td>\n",
       "      <td>S</td>\n",
       "      <td>Third</td>\n",
       "      <td>woman</td>\n",
       "      <td>False</td>\n",
       "      <td>NaN</td>\n",
       "      <td>Southampton</td>\n",
       "      <td>yes</td>\n",
       "      <td>True</td>\n",
       "    </tr>\n",
       "    <tr>\n",
       "      <th>3</th>\n",
       "      <td>1</td>\n",
       "      <td>1</td>\n",
       "      <td>female</td>\n",
       "      <td>35.0</td>\n",
       "      <td>1</td>\n",
       "      <td>0</td>\n",
       "      <td>53.1000</td>\n",
       "      <td>S</td>\n",
       "      <td>First</td>\n",
       "      <td>woman</td>\n",
       "      <td>False</td>\n",
       "      <td>C</td>\n",
       "      <td>Southampton</td>\n",
       "      <td>yes</td>\n",
       "      <td>False</td>\n",
       "    </tr>\n",
       "    <tr>\n",
       "      <th>4</th>\n",
       "      <td>0</td>\n",
       "      <td>3</td>\n",
       "      <td>male</td>\n",
       "      <td>35.0</td>\n",
       "      <td>0</td>\n",
       "      <td>0</td>\n",
       "      <td>8.0500</td>\n",
       "      <td>S</td>\n",
       "      <td>Third</td>\n",
       "      <td>man</td>\n",
       "      <td>True</td>\n",
       "      <td>NaN</td>\n",
       "      <td>Southampton</td>\n",
       "      <td>no</td>\n",
       "      <td>True</td>\n",
       "    </tr>\n",
       "  </tbody>\n",
       "</table>\n",
       "</div>"
      ],
      "text/plain": [
       "   survived  pclass     sex   age  sibsp  parch     fare embarked  class  \\\n",
       "0         0       3    male  22.0      1      0   7.2500        S  Third   \n",
       "1         1       1  female  38.0      1      0  71.2833        C  First   \n",
       "2         1       3  female  26.0      0      0   7.9250        S  Third   \n",
       "3         1       1  female  35.0      1      0  53.1000        S  First   \n",
       "4         0       3    male  35.0      0      0   8.0500        S  Third   \n",
       "\n",
       "     who  adult_male deck  embark_town alive  alone  \n",
       "0    man        True  NaN  Southampton    no  False  \n",
       "1  woman       False    C    Cherbourg   yes  False  \n",
       "2  woman       False  NaN  Southampton   yes   True  \n",
       "3  woman       False    C  Southampton   yes  False  \n",
       "4    man        True  NaN  Southampton    no   True  "
      ]
     },
     "execution_count": 11,
     "metadata": {},
     "output_type": "execute_result"
    }
   ],
   "source": [
    "import seaborn as sns\n",
    "titanic = sns.load_dataset(\"titanic\")\n",
    "titanic.head()"
   ]
  },
  {
   "cell_type": "code",
   "execution_count": 13,
   "id": "be9cad1a-3d2a-4788-9a27-d37cdb21a1ff",
   "metadata": {},
   "outputs": [
    {
     "data": {
      "text/plain": [
       "survived         0\n",
       "pclass           0\n",
       "sex              0\n",
       "age            177\n",
       "sibsp            0\n",
       "parch            0\n",
       "fare             0\n",
       "embarked         2\n",
       "class            0\n",
       "who              0\n",
       "adult_male       0\n",
       "deck           688\n",
       "embark_town      2\n",
       "alive            0\n",
       "alone            0\n",
       "dtype: int64"
      ]
     },
     "execution_count": 13,
     "metadata": {},
     "output_type": "execute_result"
    }
   ],
   "source": [
    "titanic.isnull().sum()"
   ]
  },
  {
   "cell_type": "code",
   "execution_count": 15,
   "id": "c1340c71-496f-4ccd-952d-173c875859cf",
   "metadata": {},
   "outputs": [
    {
     "name": "stdout",
     "output_type": "stream",
     "text": [
      "    survived  pclass     sex   age  sibsp  parch     fare embarked  class  \\\n",
      "1          1       1  female  38.0      1      0  71.2833        C  First   \n",
      "3          1       1  female  35.0      1      0  53.1000        S  First   \n",
      "6          0       1    male  54.0      0      0  51.8625        S  First   \n",
      "10         1       3  female   4.0      1      1  16.7000        S  Third   \n",
      "11         1       1  female  58.0      0      0  26.5500        S  First   \n",
      "\n",
      "      who  adult_male deck  embark_town alive  alone  \n",
      "1   woman       False    C    Cherbourg   yes  False  \n",
      "3   woman       False    C  Southampton   yes  False  \n",
      "6     man        True    E  Southampton    no   True  \n",
      "10  child       False    G  Southampton   yes  False  \n",
      "11  woman       False    C  Southampton   yes   True  \n"
     ]
    }
   ],
   "source": [
    "titanic_cliean = titanic.dropna()\n",
    "\n",
    "print(titanic_cliean.head())"
   ]
  },
  {
   "cell_type": "code",
   "execution_count": 17,
   "id": "4b26a0b1-199f-4e59-995c-ca51f8f2fec8",
   "metadata": {},
   "outputs": [
    {
     "name": "stdout",
     "output_type": "stream",
     "text": [
      "      ropa mujer  ropa hombre  ropa bebé  ropa infante\n",
      "2020          15         31.0         32           NaN\n",
      "2021          35         24.0         75          20.0\n",
      "2022          44         11.0         29          92.0\n",
      "2023          71          NaN         41          35.0\n",
      "      ropa mujer  ropa hombre  ropa bebé  ropa infante\n",
      "2020          15         31.0         32           0.0\n",
      "2021          35         24.0         75          20.0\n",
      "2022          44         11.0         29          92.0\n",
      "2023          71          0.0         41          35.0\n"
     ]
    }
   ],
   "source": [
    "import pandas as pd\n",
    "import numpy as np\n",
    "ventas = pd.DataFrame({\"ropa mujer\": [15, 35, 44, 71],\n",
    "                       \"ropa hombre\": [31, 24, 11, np.nan],\n",
    "                       \"ropa bebé\": [32, 75, 29, 41],\n",
    "                       \"ropa infante\": [np.nan, 20, 92, 35],\n",
    "                        }, index=[\"2020\", \"2021\", \"2022\", \"2023\"])\n",
    "\n",
    "# DataFrame original\n",
    "print(ventas)\n",
    "\n",
    "ventas = ventas.fillna(0.00)\n",
    "\n",
    "# DataFrame resultante\n",
    "print(ventas)"
   ]
  },
  {
   "cell_type": "markdown",
   "id": "a6a53076-2573-47f9-8ea1-ad841520e808",
   "metadata": {},
   "source": [
    "## Reindexación\n"
   ]
  },
  {
   "cell_type": "code",
   "execution_count": 20,
   "id": "4a82c745-ff75-48e0-9dc1-025f0b8a59ef",
   "metadata": {},
   "outputs": [
    {
     "name": "stdout",
     "output_type": "stream",
     "text": [
      "   A  B  C\n",
      "a  1  4  7\n",
      "b  2  5  8\n",
      "c  3  6  9\n",
      "\n",
      "DataFrame despues de reindexar filas:\n",
      "     A    B    C\n",
      "a  1.0  4.0  7.0\n",
      "b  2.0  5.0  8.0\n",
      "c  3.0  6.0  9.0\n",
      "d  NaN  NaN  NaN\n",
      "\n",
      "DataFrame despues de reindexar columnas:\n",
      "     A    B    C   D\n",
      "a  1.0  4.0  7.0 NaN\n",
      "b  2.0  5.0  8.0 NaN\n",
      "c  3.0  6.0  9.0 NaN\n",
      "d  NaN  NaN  NaN NaN\n",
      "     A    B    C    D\n",
      "a  1.0  4.0  7.0  0.0\n",
      "b  2.0  5.0  8.0  0.0\n",
      "c  3.0  6.0  9.0  0.0\n",
      "d  0.0  0.0  0.0  0.0\n"
     ]
    }
   ],
   "source": [
    "import pandas as pd\n",
    "import numpy as np\n",
    "\n",
    "data = {\n",
    "    'A': [1, 2, 3],\n",
    "    'B': [4, 5, 6],\n",
    "    'C': [7, 8, 9]\n",
    "}\n",
    "df = pd.DataFrame(data, index=['a', 'b', 'c'])\n",
    "# DataFrame original\n",
    "print(df)\n",
    "\n",
    "# Reindexar filas\n",
    "new_index = ['a', 'b', 'c', 'd'] # Define un nuevo índice que añade una fila 'd', que tendrá valores NaN\n",
    "df_reindexed = df.reindex(new_index)\n",
    "\n",
    "print(\"\\nDataFrame despues de reindexar filas:\")\n",
    "print(df_reindexed)\n",
    "\n",
    "# Reindexar columnas\n",
    "new_columns = ['A', 'B', 'C', 'D'] # Definir nuevas columnas, añadiendo 'D', que tendrá valores NaN\n",
    "df_reindexed_columns = df_reindexed.reindex(columns=new_columns)\n",
    "\n",
    "print(\"\\nDataFrame despues de reindexar columnas:\")\n",
    "print(df_reindexed_columns)\n",
    "\n",
    "df_filled = df_reindexed_columns.fillna(0)\n",
    "print(df_filled)"
   ]
  },
  {
   "cell_type": "code",
   "execution_count": null,
   "id": "df773c61-13a1-46be-af28-f6b0e89a149d",
   "metadata": {},
   "outputs": [],
   "source": []
  }
 ],
 "metadata": {
  "kernelspec": {
   "display_name": "Python 3 (ipykernel)",
   "language": "python",
   "name": "python3"
  },
  "language_info": {
   "codemirror_mode": {
    "name": "ipython",
    "version": 3
   },
   "file_extension": ".py",
   "mimetype": "text/x-python",
   "name": "python",
   "nbconvert_exporter": "python",
   "pygments_lexer": "ipython3",
   "version": "3.12.2"
  }
 },
 "nbformat": 4,
 "nbformat_minor": 5
}
