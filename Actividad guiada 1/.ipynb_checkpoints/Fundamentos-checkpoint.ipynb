{
 "cells": [
  {
   "cell_type": "markdown",
   "id": "5b2fea54-d6ee-4bcb-aaf5-eaa69250f734",
   "metadata": {},
   "source": [
    "# Actividad guiada 1: Fundamentos"
   ]
  },
  {
   "cell_type": "markdown",
   "id": "8d072b54-a158-4be0-9733-0941eb939196",
   "metadata": {},
   "source": [
    "## Números"
   ]
  },
  {
   "cell_type": "code",
   "execution_count": 3,
   "id": "457b3483-6100-4975-a78b-14b243777d96",
   "metadata": {},
   "outputs": [
    {
     "data": {
      "text/plain": [
       "5"
      ]
     },
     "execution_count": 3,
     "metadata": {},
     "output_type": "execute_result"
    }
   ],
   "source": [
    "3 + 2"
   ]
  },
  {
   "cell_type": "code",
   "execution_count": 4,
   "id": "9c3f128f-a80e-4132-bee9-4209a8b64276",
   "metadata": {},
   "outputs": [
    {
     "data": {
      "text/plain": [
       "1"
      ]
     },
     "execution_count": 4,
     "metadata": {},
     "output_type": "execute_result"
    }
   ],
   "source": [
    "3 - 2"
   ]
  },
  {
   "cell_type": "code",
   "execution_count": 5,
   "id": "f9880994-8aed-4747-96b7-bd51cb5eee15",
   "metadata": {},
   "outputs": [
    {
     "data": {
      "text/plain": [
       "6"
      ]
     },
     "execution_count": 5,
     "metadata": {},
     "output_type": "execute_result"
    }
   ],
   "source": [
    "3 * 2"
   ]
  },
  {
   "cell_type": "code",
   "execution_count": 6,
   "id": "e58a5105-5015-41a3-b1d8-da07b667ec91",
   "metadata": {},
   "outputs": [
    {
     "data": {
      "text/plain": [
       "15.0"
      ]
     },
     "execution_count": 6,
     "metadata": {},
     "output_type": "execute_result"
    }
   ],
   "source": [
    "30 / 2"
   ]
  },
  {
   "cell_type": "code",
   "execution_count": 8,
   "id": "0cd20385-a336-4b22-abaf-818c109ed7d0",
   "metadata": {},
   "outputs": [
    {
     "data": {
      "text/plain": [
       "1"
      ]
     },
     "execution_count": 8,
     "metadata": {},
     "output_type": "execute_result"
    }
   ],
   "source": [
    "10 % 3"
   ]
  },
  {
   "cell_type": "code",
   "execution_count": 10,
   "id": "2ff587bc-870f-40a8-a70c-c36c0eed4033",
   "metadata": {},
   "outputs": [
    {
     "data": {
      "text/plain": [
       "27"
      ]
     },
     "execution_count": 10,
     "metadata": {},
     "output_type": "execute_result"
    }
   ],
   "source": [
    "3 ** 3"
   ]
  },
  {
   "cell_type": "code",
   "execution_count": 11,
   "id": "af148862-550c-4ad1-b3d5-b854d963e4a8",
   "metadata": {},
   "outputs": [
    {
     "data": {
      "text/plain": [
       "1"
      ]
     },
     "execution_count": 11,
     "metadata": {},
     "output_type": "execute_result"
    }
   ],
   "source": [
    "1"
   ]
  },
  {
   "cell_type": "code",
   "execution_count": 12,
   "id": "6c9b4f56-a3f5-4ecf-b3a9-72b7c1e2633d",
   "metadata": {},
   "outputs": [
    {
     "data": {
      "text/plain": [
       "3.14159"
      ]
     },
     "execution_count": 12,
     "metadata": {},
     "output_type": "execute_result"
    }
   ],
   "source": [
    "3.14159"
   ]
  },
  {
   "cell_type": "code",
   "execution_count": 14,
   "id": "52efa0ad-4386-4d30-bed5-1295cd13847f",
   "metadata": {},
   "outputs": [
    {
     "data": {
      "text/plain": [
       "41"
      ]
     },
     "execution_count": 14,
     "metadata": {},
     "output_type": "execute_result"
    }
   ],
   "source": [
    "3-2+4*10"
   ]
  },
  {
   "cell_type": "code",
   "execution_count": 15,
   "id": "1c87228a-0ad0-4d4e-86e4-e34d20ae7d84",
   "metadata": {},
   "outputs": [
    {
     "data": {
      "text/plain": [
       "-57"
      ]
     },
     "execution_count": 15,
     "metadata": {},
     "output_type": "execute_result"
    }
   ],
   "source": [
    "3-(2+4)*10"
   ]
  },
  {
   "cell_type": "markdown",
   "id": "cb378e33-9d99-4f02-8d00-18638ec48c9d",
   "metadata": {},
   "source": [
    "## Sintaxis"
   ]
  },
  {
   "cell_type": "code",
   "execution_count": 18,
   "id": "b6025147-b464-44cf-8f78-7241929f798b",
   "metadata": {},
   "outputs": [
    {
     "name": "stdout",
     "output_type": "stream",
     "text": [
      "Hola clase\n"
     ]
    }
   ],
   "source": [
    "# Ejemplo de identación\n",
    "def saludo():\n",
    "    print('Hola clase')\n",
    "\n",
    "saludo()"
   ]
  },
  {
   "cell_type": "code",
   "execution_count": 17,
   "id": "0b9f87a0-ff31-438c-93e6-a51c6052734b",
   "metadata": {},
   "outputs": [
    {
     "name": "stdout",
     "output_type": "stream",
     "text": [
      "Hola clase\n"
     ]
    }
   ],
   "source": [
    "saludo()"
   ]
  },
  {
   "cell_type": "code",
   "execution_count": 21,
   "id": "2a30f703-6031-415f-9a4c-28dcb0a68391",
   "metadata": {},
   "outputs": [
    {
     "name": "stdout",
     "output_type": "stream",
     "text": [
      "7\n"
     ]
    }
   ],
   "source": [
    "'''\n",
    "Esto es un ejemplo de comentario\n",
    "de mpultiples lienas\n",
    "'''\n",
    "def suma(a, b):\n",
    "    return a + b # Esta linea regresa la suma de los números que recibe en a y b\n",
    "\n",
    "print(suma(4, 3))"
   ]
  },
  {
   "cell_type": "code",
   "execution_count": 23,
   "id": "51491ce8-14a8-4c2e-a85b-5ee8272ff3a3",
   "metadata": {},
   "outputs": [
    {
     "name": "stdout",
     "output_type": "stream",
     "text": [
      "<class 'int'> <class 'float'> <class 'complex'>\n"
     ]
    }
   ],
   "source": [
    "num1 = 10\n",
    "num2 = 10.5\n",
    "num3 = 1 +2j\n",
    "\n",
    "print(type(num1), type(num2), type(num3))"
   ]
  },
  {
   "cell_type": "code",
   "execution_count": 24,
   "id": "7847a844-0c1c-4822-9cad-b64a19e3eee3",
   "metadata": {},
   "outputs": [
    {
     "name": "stdout",
     "output_type": "stream",
     "text": [
      "<class 'str'>\n"
     ]
    }
   ],
   "source": [
    "nombre = 'Ricardo'\n",
    "\n",
    "print(type(nombre))"
   ]
  },
  {
   "cell_type": "code",
   "execution_count": 25,
   "id": "ca827a29-e200-43e4-bb03-737f0a4b0b86",
   "metadata": {},
   "outputs": [
    {
     "name": "stdout",
     "output_type": "stream",
     "text": [
      "{'nombre': 'Ricardo', 'edad': 44}\n"
     ]
    }
   ],
   "source": [
    "# Diccionario\n",
    "dic = { \"nombre\": \"Ricardo\", \"edad\": 44 }\n",
    "\n",
    "print(dic)"
   ]
  },
  {
   "cell_type": "code",
   "execution_count": 27,
   "id": "82ace557-a49a-4de3-929f-989a5b9925be",
   "metadata": {},
   "outputs": [
    {
     "name": "stdout",
     "output_type": "stream",
     "text": [
      "{1, 2, 3, 4}\n"
     ]
    }
   ],
   "source": [
    "# Conjuntos\n",
    "conjunto = { 1, 2, 3, 4 }\n",
    "\n",
    "print(conjunto)"
   ]
  },
  {
   "cell_type": "code",
   "execution_count": 28,
   "id": "fbc14d64-4487-4fd0-8ee9-b4daacfa5e69",
   "metadata": {},
   "outputs": [
    {
     "name": "stdout",
     "output_type": "stream",
     "text": [
      "['Fresa', 'Plátano', 'Guayaba']\n"
     ]
    }
   ],
   "source": [
    "# Listas\n",
    "frutas = [ \"Fresa\", \"Plátano\", \"Guayaba\" ]\n",
    "\n",
    "print(frutas)"
   ]
  },
  {
   "cell_type": "code",
   "execution_count": 29,
   "id": "4c46e960-20dc-49b0-9e15-b8b0af708d10",
   "metadata": {},
   "outputs": [
    {
     "name": "stdout",
     "output_type": "stream",
     "text": [
      "15 5 50 2.0 100000\n"
     ]
    }
   ],
   "source": [
    "a, b = 10, 5;\n",
    "print(a + b, a - b, a * b, a / b, a**b)"
   ]
  },
  {
   "cell_type": "code",
   "execution_count": 30,
   "id": "1ea4a7c3-0879-4783-92b3-0cb05bd79ec3",
   "metadata": {},
   "outputs": [
    {
     "name": "stdout",
     "output_type": "stream",
     "text": [
      "False True False True True False\n"
     ]
    }
   ],
   "source": [
    "print(a == b, a != b, a < b, a > b, a >= b, a <= b)"
   ]
  },
  {
   "cell_type": "code",
   "execution_count": 31,
   "id": "04ffc02f-a3fe-4bde-bf7e-1344f5d6f8ec",
   "metadata": {},
   "outputs": [
    {
     "name": "stdout",
     "output_type": "stream",
     "text": [
      "True True True True True True\n"
     ]
    }
   ],
   "source": [
    "print(5 == b, a != 3, a < 16, 44 > b, 2 >= 2, b <= a)"
   ]
  },
  {
   "cell_type": "code",
   "execution_count": 41,
   "id": "21755c48-b1ce-4cbf-af0a-475718593650",
   "metadata": {},
   "outputs": [
    {
     "name": "stdout",
     "output_type": "stream",
     "text": [
      "Hola a todos\n"
     ]
    }
   ],
   "source": [
    "def saludos():\n",
    "    print('Hola persona 1')\n",
    "    print('Hola persona 2')\n",
    "    print('Hola persona 3')    \n",
    "    print('Hola persona 4')\n",
    "    print('Hola persona 5')\n",
    "print('Hola a todos')\n",
    "\n",
    "def condiciones():\n",
    "    a = 5\n",
    "    b = 10\n",
    "    if (a > b):\n",
    "        print('El primer número es mayor que el segundo')\n",
    "    if (a < b):\n",
    "        print('El segundo número es mayor que el primero')\n",
    "\n"
   ]
  },
  {
   "cell_type": "code",
   "execution_count": 42,
   "id": "82e34b57-fb4f-4461-bf00-fb4078a911f9",
   "metadata": {},
   "outputs": [
    {
     "name": "stdout",
     "output_type": "stream",
     "text": [
      "Hola persona 1\n",
      "Hola persona 2\n",
      "Hola persona 3\n",
      "Hola persona 4\n",
      "Hola persona 5\n"
     ]
    }
   ],
   "source": [
    "saludos()"
   ]
  },
  {
   "cell_type": "code",
   "execution_count": 43,
   "id": "164380fc-a2f0-480f-b67a-e45d0695d08d",
   "metadata": {},
   "outputs": [
    {
     "name": "stdout",
     "output_type": "stream",
     "text": [
      "El segundo número es mayor que el primero\n"
     ]
    }
   ],
   "source": [
    "condiciones()"
   ]
  },
  {
   "cell_type": "code",
   "execution_count": 44,
   "id": "aca8901e-b8f5-40c4-80dd-64cc6744951b",
   "metadata": {},
   "outputs": [
    {
     "name": "stdout",
     "output_type": "stream",
     "text": [
      "Hola, mi nombre es Ricardo y soy programador de software\n"
     ]
    }
   ],
   "source": [
    "print(\"Hola, mi nombre es Ricardo y soy programador de software\")"
   ]
  },
  {
   "cell_type": "code",
   "execution_count": 45,
   "id": "95ca86b5-9bd9-41cd-af68-0fe369769021",
   "metadata": {},
   "outputs": [
    {
     "name": "stdout",
     "output_type": "stream",
     "text": [
      "Hola, mi nombre es Ricardo y soy programador de software\n"
     ]
    }
   ],
   "source": [
    "print('Hola, mi nombre es Ricardo y soy programador de software')"
   ]
  },
  {
   "cell_type": "code",
   "execution_count": 49,
   "id": "7c2baa9a-da66-4116-ad7a-e9875a28527b",
   "metadata": {},
   "outputs": [
    {
     "name": "stdout",
     "output_type": "stream",
     "text": [
      "Hola, mi nombre es Ricardo y soy 'programador' de software\n"
     ]
    }
   ],
   "source": [
    "print(\"Hola, mi nombre es Ricardo y soy 'programador' de software\")"
   ]
  },
  {
   "cell_type": "code",
   "execution_count": 50,
   "id": "f686c9d6-82ab-4dc9-8629-69a3003c8a5f",
   "metadata": {},
   "outputs": [
    {
     "name": "stdout",
     "output_type": "stream",
     "text": [
      "Hola, mi nombre es Ricardo y soy \"programador\" de software\n"
     ]
    }
   ],
   "source": [
    "print('Hola, mi nombre es Ricardo y soy \"programador\" de software')"
   ]
  },
  {
   "cell_type": "code",
   "execution_count": 51,
   "id": "89e95556-ad17-4099-9a25-f6bd0bb13a42",
   "metadata": {},
   "outputs": [
    {
     "data": {
      "text/plain": [
       "10"
      ]
     },
     "execution_count": 51,
     "metadata": {},
     "output_type": "execute_result"
    }
   ],
   "source": [
    "a"
   ]
  },
  {
   "cell_type": "code",
   "execution_count": 52,
   "id": "ee190a3d-aa6f-4f8a-9e20-6182f26d3fa6",
   "metadata": {},
   "outputs": [
    {
     "name": "stdout",
     "output_type": "stream",
     "text": [
      "10\n"
     ]
    }
   ],
   "source": [
    "print(a)"
   ]
  },
  {
   "cell_type": "code",
   "execution_count": 53,
   "id": "5ddb938a-2199-4cc6-a445-6ef00ea492ea",
   "metadata": {},
   "outputs": [
    {
     "name": "stdout",
     "output_type": "stream",
     "text": [
      "5\n"
     ]
    }
   ],
   "source": [
    "print(b)"
   ]
  },
  {
   "cell_type": "code",
   "execution_count": 54,
   "id": "0641b7f2-451a-4f17-a3c7-36de1ec92a53",
   "metadata": {},
   "outputs": [
    {
     "name": "stdout",
     "output_type": "stream",
     "text": [
      "15\n"
     ]
    }
   ],
   "source": [
    "a += 5\n",
    "print(a)"
   ]
  },
  {
   "cell_type": "code",
   "execution_count": 55,
   "id": "51539df8-9281-474c-b14f-df1789717de6",
   "metadata": {},
   "outputs": [
    {
     "name": "stdout",
     "output_type": "stream",
     "text": [
      "20\n"
     ]
    }
   ],
   "source": [
    "a = a + 5\n",
    "print(a)"
   ]
  },
  {
   "cell_type": "code",
   "execution_count": 56,
   "id": "068fbac8-ce51-4275-bea8-afdd8f4e224f",
   "metadata": {},
   "outputs": [
    {
     "name": "stdout",
     "output_type": "stream",
     "text": [
      "15\n"
     ]
    }
   ],
   "source": [
    "a -= 5\n",
    "print(a)"
   ]
  },
  {
   "cell_type": "code",
   "execution_count": 57,
   "id": "b80a03d7-4959-4d17-a6a9-e9da45c59c2b",
   "metadata": {},
   "outputs": [
    {
     "name": "stdout",
     "output_type": "stream",
     "text": [
      "75\n"
     ]
    }
   ],
   "source": [
    "a *= 5\n",
    "print(a)"
   ]
  },
  {
   "cell_type": "code",
   "execution_count": 58,
   "id": "f6afc0f1-fdde-4ca4-928c-b5660f3d2c74",
   "metadata": {},
   "outputs": [
    {
     "name": "stdout",
     "output_type": "stream",
     "text": [
      "75\n",
      "5\n",
      "10\n"
     ]
    }
   ],
   "source": [
    "print(a)\n",
    "a =+ 5\n",
    "print(a)\n",
    "a += 5\n",
    "print(a)"
   ]
  },
  {
   "cell_type": "code",
   "execution_count": 61,
   "id": "f732d622-8b60-4a8c-9a15-51b2f2cb4f1d",
   "metadata": {},
   "outputs": [
    {
     "name": "stdout",
     "output_type": "stream",
     "text": [
      "Justo en los 18 años\n"
     ]
    }
   ],
   "source": [
    "edad = 18\n",
    "if edad > 18:\n",
    "    print('Eres mayor de edad')\n",
    "elif edad == 18:\n",
    "    print('Justo en los 18 años')\n",
    "else:\n",
    "    print('Eres menor de edad')"
   ]
  },
  {
   "cell_type": "code",
   "execution_count": 62,
   "id": "e78e3ed8-5e76-4cd9-83c6-7104813e0719",
   "metadata": {},
   "outputs": [
    {
     "name": "stdout",
     "output_type": "stream",
     "text": [
      "0\n",
      "1\n",
      "2\n",
      "3\n",
      "4\n",
      "5\n",
      "6\n",
      "7\n",
      "8\n",
      "9\n"
     ]
    }
   ],
   "source": [
    "for i in range(10):\n",
    "    print(i)"
   ]
  },
  {
   "cell_type": "code",
   "execution_count": 63,
   "id": "12ab657b-f5ae-404d-ab15-dfbf6fdb796e",
   "metadata": {},
   "outputs": [
    {
     "name": "stdout",
     "output_type": "stream",
     "text": [
      "7  x  1  =  7\n",
      "7  x  2  =  14\n",
      "7  x  3  =  21\n",
      "7  x  4  =  28\n",
      "7  x  5  =  35\n",
      "7  x  6  =  42\n",
      "7  x  7  =  49\n",
      "7  x  8  =  56\n",
      "7  x  9  =  63\n",
      "7  x  10  =  70\n"
     ]
    }
   ],
   "source": [
    "tabla = 7\n",
    "for multiplo in range(10):\n",
    "    print( tabla , \" x \", (multiplo + 1 ) , \" = \", tabla*(multiplo+1) )"
   ]
  },
  {
   "cell_type": "code",
   "execution_count": 70,
   "id": "293fab83-ff6b-4eee-b6aa-c30b19cf8f17",
   "metadata": {},
   "outputs": [
    {
     "name": "stdout",
     "output_type": "stream",
     "text": [
      "15\n",
      "33\n"
     ]
    }
   ],
   "source": [
    "d = 33\n",
    "def ambito():\n",
    "    d = 15\n",
    "    print(d)\n",
    "    \n",
    "ambito()\n",
    "print(d)"
   ]
  },
  {
   "cell_type": "code",
   "execution_count": null,
   "id": "ec11c077-ef9f-473a-9960-3f260685d881",
   "metadata": {},
   "outputs": [],
   "source": []
  }
 ],
 "metadata": {
  "kernelspec": {
   "display_name": "Python 3 (ipykernel)",
   "language": "python",
   "name": "python3"
  },
  "language_info": {
   "codemirror_mode": {
    "name": "ipython",
    "version": 3
   },
   "file_extension": ".py",
   "mimetype": "text/x-python",
   "name": "python",
   "nbconvert_exporter": "python",
   "pygments_lexer": "ipython3",
   "version": "3.12.3"
  }
 },
 "nbformat": 4,
 "nbformat_minor": 5
}
