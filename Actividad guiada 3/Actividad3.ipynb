{
 "cells": [
  {
   "cell_type": "markdown",
   "id": "7f6cffd2-e9b2-43c8-b933-51af7ca14342",
   "metadata": {},
   "source": [
    "# Funciones de orden superior\n",
    "Las funciones de orden superior son aquellas que aceptan otras funciones como argumentos o que retoman otras funciones como sus resultados. Esto permite crear código más flexible y reutilizable."
   ]
  },
  {
   "cell_type": "markdown",
   "id": "097bb85b-ba8f-48e0-92b4-4cca06cb37a2",
   "metadata": {},
   "source": [
    "## Función map()\n",
    "La función map() aplica una función especificada a cada elemento de un iterable (como una lista) y retorna un nuevo iterable con los resutlados."
   ]
  },
  {
   "cell_type": "code",
   "execution_count": 1,
   "id": "faad42f7-f6ad-4884-8ccf-79509feba886",
   "metadata": {},
   "outputs": [
    {
     "name": "stdout",
     "output_type": "stream",
     "text": [
      "30\n",
      "[2, 4, 6, 8, 10]\n"
     ]
    }
   ],
   "source": [
    "def doblar(numero):\n",
    "    return numero * 2\n",
    "\n",
    "print(doblar(15))\n",
    "numeros = [1, 2, 3, 4, 5]\n",
    "resultados = map(doblar, numeros)\n",
    "print(list(resultados))"
   ]
  },
  {
   "cell_type": "markdown",
   "id": "6d1deee1-ef8d-4308-b78c-938e0ea944a1",
   "metadata": {},
   "source": [
    "## Función filter()\n",
    "La función filter() crea una lista de elementos para los cuales una función retorna True"
   ]
  },
  {
   "cell_type": "code",
   "execution_count": 7,
   "id": "12652f93-bb50-458b-aae9-945848645d17",
   "metadata": {},
   "outputs": [
    {
     "name": "stdout",
     "output_type": "stream",
     "text": [
      "True\n",
      "[2, 4]\n"
     ]
    }
   ],
   "source": [
    "### Verificar pares\n",
    "def es_par(numero):\n",
    "    return numero % 2 == 0\n",
    "\n",
    "print(es_par(26))\n",
    "numeros = [1, 2, 3, 4, 5]\n",
    "pares = filter(es_par, numeros)\n",
    "print(list(pares))"
   ]
  },
  {
   "cell_type": "code",
   "execution_count": 9,
   "id": "ff1286d1-1c3b-4e4d-b3db-2e606f69e06b",
   "metadata": {},
   "outputs": [
    {
     "name": "stdout",
     "output_type": "stream",
     "text": [
      "False\n",
      "[1, 3, 5]\n"
     ]
    }
   ],
   "source": [
    "## verificar impares \n",
    "def es_par(numero):\n",
    "    return numero % 2 != 0\n",
    "\n",
    "print(es_par(26))\n",
    "numeros = [1, 2, 3, 4, 5]\n",
    "impares = filter(es_par, numeros)\n",
    "print(list(impares))"
   ]
  },
  {
   "cell_type": "code",
   "execution_count": 10,
   "id": "cd814ff6-f4ca-464f-984d-a56e2f146f92",
   "metadata": {},
   "outputs": [
    {
     "name": "stdout",
     "output_type": "stream",
     "text": [
      "[2, 6, 10]\n"
     ]
    }
   ],
   "source": [
    "def doblar(numero):\n",
    "    return numero * 2\n",
    "\n",
    "def es_impar(numero):\n",
    "    return numero % 2 != 0\n",
    "\n",
    "numeros = [1, 2, 3, 4, 5]\n",
    "# duplicar solo los números impares\n",
    "resultados = map(doblar, filter(es_impar, numeros))\n",
    "print(list(resultados))"
   ]
  },
  {
   "cell_type": "markdown",
   "id": "ee20b415-dbc9-4231-8931-a1035650c8da",
   "metadata": {},
   "source": [
    "## Funciones Lambda\n",
    "Las funciones lambda o funciones anónimas son una forma de crear funciones pequeñas y de un solo uso sin necesidad de definirlas con el estándar def. Son ideales para operaciones sencillas que pueden ser escritas en una sola linea.\n",
    "\n",
    "### Características:\n",
    "- Son anónimas; no necesitan un nombre cuando se definen.\n",
    "- Pueden tener cualquier número de argumentos, pero solo una expresión.\n",
    "- Son útiles en situaciones donde se requiere una funcón por un corto periodo de tiempo, y donde definir formalmente una función podría reducir la legibilidad del código.\n",
    "- A menudo se utilizan en combinación con funciones map(), filter() y reduce()"
   ]
  },
  {
   "cell_type": "code",
   "execution_count": 11,
   "id": "e9e74834-f6d4-448f-995a-092708d46b6c",
   "metadata": {},
   "outputs": [
    {
     "name": "stdout",
     "output_type": "stream",
     "text": [
      "25\n"
     ]
    }
   ],
   "source": [
    "cuadrado = lambda x: x * x\n",
    "\n",
    "print(cuadrado(5))"
   ]
  },
  {
   "cell_type": "code",
   "execution_count": 12,
   "id": "e30af4ed-8df7-45bb-bb93-ed6323bdbd7f",
   "metadata": {},
   "outputs": [
    {
     "name": "stdout",
     "output_type": "stream",
     "text": [
      "[2, 4, 6, 8, 10, 12, 14, 16, 18, 20]\n"
     ]
    }
   ],
   "source": [
    "numeros = [1, 2, 3, 4, 5, 6, 7, 8, 9, 10]\n",
    "\n",
    "duplicados = map(lambda x: x * 2, numeros)\n",
    "print(list(duplicados))"
   ]
  },
  {
   "cell_type": "code",
   "execution_count": 17,
   "id": "ea5393c5-142b-4159-ba84-681136a5794c",
   "metadata": {},
   "outputs": [
    {
     "name": "stdout",
     "output_type": "stream",
     "text": [
      "120 libras son 54.43 kilogramos\n"
     ]
    }
   ],
   "source": [
    "convertir_a_kilos = lambda kilogramos: libras / 2.2046\n",
    "\n",
    "libras = 120\n",
    "kilogramos = convertir_a_kilos(libras)\n",
    "print(f\"{libras} libras son {kilogramos:.2f} kilogramos\")\n",
    "print(libras, \"libras son \", kilogramos,\" kilogramos\")"
   ]
  },
  {
   "cell_type": "code",
   "execution_count": 19,
   "id": "3480f426-3803-4aef-939c-3d69a460ab04",
   "metadata": {},
   "outputs": [
    {
     "name": "stdin",
     "output_type": "stream",
     "text": [
      "Ingresa el número de libras que deseas convertir a kilogramos:  145\n"
     ]
    },
    {
     "name": "stdout",
     "output_type": "stream",
     "text": [
      "145.0 libras son 65.77 kilogramos\n"
     ]
    }
   ],
   "source": [
    "convertir_a_kilos = lambda kilogramos: libras / 2.2046\n",
    "\n",
    "libras = float(input(\"Ingresa el número de libras que deseas convertir a kilogramos: \"))\n",
    "\n",
    "kilogramos = convertir_a_kilos(libras)\n",
    "print(f\"{libras} libras son {kilogramos:.2f} kilogramos\")"
   ]
  },
  {
   "cell_type": "code",
   "execution_count": 21,
   "id": "b17bbb7f-2c00-448f-87fb-637faa04f0e6",
   "metadata": {},
   "outputs": [
    {
     "name": "stdin",
     "output_type": "stream",
     "text": [
      "Ingresa el número de kilogramos que deseas convertir a libras:  93\n"
     ]
    },
    {
     "name": "stdout",
     "output_type": "stream",
     "text": [
      "93.0 kilogramos son 205.03 libras\n"
     ]
    }
   ],
   "source": [
    "convertir_a_libras = lambda libras: kilogramos * 2.2046\n",
    "\n",
    "kilogramos = float(input(\"Ingresa el número de kilogramos que deseas convertir a libras: \"))\n",
    "\n",
    "libras = convertir_a_libras(kilogramos)\n",
    "print(f\"{kilogramos} kilogramos son {libras:.2f} libras\")"
   ]
  },
  {
   "cell_type": "code",
   "execution_count": null,
   "id": "aa4b4396-7035-4942-a257-797463616b8c",
   "metadata": {},
   "outputs": [],
   "source": []
  }
 ],
 "metadata": {
  "kernelspec": {
   "display_name": "Python 3 (ipykernel)",
   "language": "python",
   "name": "python3"
  },
  "language_info": {
   "codemirror_mode": {
    "name": "ipython",
    "version": 3
   },
   "file_extension": ".py",
   "mimetype": "text/x-python",
   "name": "python",
   "nbconvert_exporter": "python",
   "pygments_lexer": "ipython3",
   "version": "3.12.2"
  }
 },
 "nbformat": 4,
 "nbformat_minor": 5
}
