{
 "cells": [
  {
   "cell_type": "markdown",
   "id": "92627046-563c-4c95-b0c0-fe8c53a88f1b",
   "metadata": {},
   "source": [
    "# Actividad 7\n",
    "1. Enteros\n",
    "2. Flotantes o Reales\n",
    "3. Cadena\n",
    "4. Boleanos\n",
    "5. None"
   ]
  },
  {
   "cell_type": "code",
   "execution_count": 1,
   "id": "25dab494-da24-45f3-8116-40da53d66721",
   "metadata": {},
   "outputs": [
    {
     "name": "stdout",
     "output_type": "stream",
     "text": [
      "44 <class 'int'>\n",
      "3.14159 <class 'float'>\n",
      "Hola mundo <class 'str'>\n",
      "True <class 'bool'>\n",
      "None <class 'NoneType'>\n"
     ]
    }
   ],
   "source": [
    "# Entero\n",
    "entero = 44\n",
    "print(entero, type(entero))\n",
    "\n",
    "# Flotante\n",
    "flotante = 3.14159\n",
    "print(flotante, type(flotante))\n",
    "\n",
    "# Cadena\n",
    "cadena = \"Hola mundo\"\n",
    "print(cadena, type(cadena))\n",
    "\n",
    "# Booleano\n",
    "booleano = True\n",
    "print(booleano, type(booleano))\n",
    "\n",
    "# None\n",
    "nada = None\n",
    "print(nada, type(nada))"
   ]
  },
  {
   "cell_type": "markdown",
   "id": "9224d8f0-48d9-4766-8986-41d6bd056b09",
   "metadata": {},
   "source": [
    "## Actividad 1"
   ]
  },
  {
   "cell_type": "code",
   "execution_count": 5,
   "id": "e1ce4e30-5fc7-4d15-82c9-70c72d1cb23c",
   "metadata": {},
   "outputs": [
    {
     "name": "stdout",
     "output_type": "stream",
     "text": [
      "<class 'int'>\n",
      "74.5\n",
      "<class 'float'>\n"
     ]
    }
   ],
   "source": [
    "a = 50\n",
    "b = 24.5\n",
    "print(type(a))\n",
    "a = a + b\n",
    "\n",
    "print(a)\n",
    "print(type(a))"
   ]
  },
  {
   "cell_type": "markdown",
   "id": "79205765-0bf9-4b6a-9bb9-922739f654a0",
   "metadata": {},
   "source": [
    "## Actividad 2"
   ]
  },
  {
   "cell_type": "code",
   "execution_count": 9,
   "id": "f143aea7-9384-4c77-acfc-e2e072459a8b",
   "metadata": {},
   "outputs": [
    {
     "name": "stdin",
     "output_type": "stream",
     "text": [
      "Dame un número 24.5\n"
     ]
    },
    {
     "name": "stdout",
     "output_type": "stream",
     "text": [
      "<class 'str'>\n",
      "74.5\n",
      "<class 'float'>\n"
     ]
    }
   ],
   "source": [
    "a = 50\n",
    "b = input('Dame un número')\n",
    "print(type(b))\n",
    "b = float(b)\n",
    "c = a + b\n",
    "\n",
    "print(c)\n",
    "print(type(c))"
   ]
  },
  {
   "cell_type": "markdown",
   "id": "00c7eb86-497c-45e3-93af-03ea3f2588c6",
   "metadata": {},
   "source": [
    "## Actividad 3"
   ]
  },
  {
   "cell_type": "code",
   "execution_count": 16,
   "id": "d62decd2-71f7-4f4b-a810-1db568a55cb8",
   "metadata": {},
   "outputs": [
    {
     "name": "stdout",
     "output_type": "stream",
     "text": [
      "Total para el cliente 1: 355.0\n",
      "Total para el cliente 2: 98.0\n",
      "Total para el cliente 3: 300.0\n"
     ]
    }
   ],
   "source": [
    "# Paso 1: Asignar el prcio de los 5 productos\n",
    "precios = {\n",
    "    \"manzana\": 48.00,\n",
    "    \"pera\": 35.00,\n",
    "    \"plátano\": 44.00,\n",
    "    \"naranja\": 27.00,\n",
    "    \"uva\": 88.00,\n",
    "    \"fresa\": 50\n",
    "}\n",
    "\n",
    "# Paso 2: Crear el programa de punto de venta\n",
    "def calcular_total(compras):\n",
    "    total = 0\n",
    "    for producto, cantidad in compras.items():\n",
    "        if producto in precios:\n",
    "            total += precios[producto] * cantidad\n",
    "    return total\n",
    "\n",
    "# Paso 3: Simular la compra de 3 clientes\n",
    "cliente1 = {\n",
    "    \"manzana\": 3,\n",
    "    \"pera\": 1,\n",
    "    \"uva\": 2\n",
    "}\n",
    "cliente2 = {\n",
    "    \"manzana\": 1,\n",
    "    \"fresa\": 1,\n",
    "}\n",
    "cliente3 = {\n",
    "    \"pera\": 2,\n",
    "    \"naranja\": 2,\n",
    "    \"uva\": 2\n",
    "}\n",
    "\n",
    "# Paso 4: Calcular y mostrar el total para cada cliente\n",
    "total_cliente1 = calcular_total(cliente1)\n",
    "total_cliente2 = calcular_total(cliente2)\n",
    "total_cliente3 = calcular_total(cliente3)\n",
    "\n",
    "print(f\"Total para el cliente 1: {total_cliente1}\")\n",
    "print(f\"Total para el cliente 2: {total_cliente2}\")\n",
    "print(f\"Total para el cliente 3: {total_cliente3}\")"
   ]
  },
  {
   "cell_type": "markdown",
   "id": "17612382-9b00-43e8-bcc0-1a400116184e",
   "metadata": {},
   "source": [
    "## Manipulación de Strings"
   ]
  },
  {
   "cell_type": "code",
   "execution_count": 18,
   "id": "5a458cad-fa1f-4d69-af10-684490b7bad4",
   "metadata": {},
   "outputs": [
    {
     "name": "stdout",
     "output_type": "stream",
     "text": [
      "Hola Mundo\n"
     ]
    }
   ],
   "source": [
    "# concatenar strings\n",
    "str1 = \"Hola\"\n",
    "str2 = \"Mundo\"\n",
    "concatenacion = str1 + \" \" + str2\n",
    "print(concatenacion)"
   ]
  },
  {
   "cell_type": "code",
   "execution_count": 22,
   "id": "476b3bed-7695-4cfd-8fb3-5102f8e43b77",
   "metadata": {},
   "outputs": [
    {
     "name": "stdout",
     "output_type": "stream",
     "text": [
      "Hola\n"
     ]
    }
   ],
   "source": [
    "cadena = \"Hola mundo\"\n",
    "substring = cadena[0:4]\n",
    "print(substring)"
   ]
  },
  {
   "cell_type": "code",
   "execution_count": 24,
   "id": "b6001208-b97c-44e4-ad7d-0778b7c05cef",
   "metadata": {},
   "outputs": [
    {
     "name": "stdout",
     "output_type": "stream",
     "text": [
      "HOLA MUNDO\n",
      "hola mundo\n",
      "Hola bootcamp de python\n"
     ]
    }
   ],
   "source": [
    "# Métodos de strings\n",
    "cadena = \"Hola mundo\"\n",
    "mayusculas = cadena.upper()\n",
    "minusculas = cadena.lower()\n",
    "reemplazo = cadena.replace(\"mundo\", \"bootcamp de python\")\n",
    "\n",
    "print(mayusculas)\n",
    "print(minusculas)\n",
    "print(reemplazo)"
   ]
  },
  {
   "cell_type": "code",
   "execution_count": 25,
   "id": "ce910486-d5f1-4142-a9d2-fc1d4a864fd8",
   "metadata": {},
   "outputs": [
    {
     "name": "stdout",
     "output_type": "stream",
     "text": [
      "Ricardo monroy rodríguez\n"
     ]
    }
   ],
   "source": [
    "nombre = \"RICARDO MONROY RODRÍGUEZ\"\n",
    "nombre_bien = nombre.capitalize()\n",
    "\n",
    "print(nombre_bien)"
   ]
  },
  {
   "cell_type": "markdown",
   "id": "fb4791c4-7e9e-4175-99d3-c749d5b164df",
   "metadata": {},
   "source": [
    "### Ejemplos entre strings y listas"
   ]
  },
  {
   "cell_type": "code",
   "execution_count": 29,
   "id": "a8844a0a-ccaf-4f2a-9fa0-8f17b12b8c7c",
   "metadata": {},
   "outputs": [
    {
     "name": "stdout",
     "output_type": "stream",
     "text": [
      "hola\n"
     ]
    }
   ],
   "source": [
    "cadena = \"Hola\"\n",
    "# cadena[0] = \"h\"\n",
    "nueva_cadena = \"h\" + cadena[1:]\n",
    "print(nueva_cadena)"
   ]
  },
  {
   "cell_type": "code",
   "execution_count": 32,
   "id": "65a41bb9-f21d-45cf-92a4-05c8582725c2",
   "metadata": {},
   "outputs": [
    {
     "name": "stdout",
     "output_type": "stream",
     "text": [
      "[10, 2, 3, 4]\n",
      "[10, 2, 3, 4, 5]\n",
      "[10, 2, 4, 5]\n"
     ]
    }
   ],
   "source": [
    "lista = [1, 2, 3, 4]\n",
    "lista[0] = 10\n",
    "print(lista)\n",
    "\n",
    "lista.append(5)\n",
    "print(lista)\n",
    "\n",
    "lista.remove(3)\n",
    "print(lista)"
   ]
  },
  {
   "cell_type": "code",
   "execution_count": 33,
   "id": "b4770fe1-c736-4081-a194-86d6049d863b",
   "metadata": {},
   "outputs": [
    {
     "name": "stdout",
     "output_type": "stream",
     "text": [
      "Hola\n",
      "[1, 2, 3, 4]\n"
     ]
    }
   ],
   "source": [
    "cadena = \"Hola Mundo\"\n",
    "lista = [1, 2, 3, 4, 5, 6, 7, 8, 9 , 10]\n",
    "\n",
    "print(cadena[0:4])\n",
    "print(lista[0:4])"
   ]
  },
  {
   "cell_type": "markdown",
   "id": "f853f16a-1157-42d1-b0a3-868da1a70df5",
   "metadata": {},
   "source": [
    "## Actividad 4"
   ]
  },
  {
   "cell_type": "code",
   "execution_count": 34,
   "id": "147295c3-4000-4958-87f9-3c42caa79c1b",
   "metadata": {},
   "outputs": [
    {
     "name": "stdout",
     "output_type": "stream",
     "text": [
      "17\n"
     ]
    }
   ],
   "source": [
    "frase = \"cadenas en Python\"\n",
    "print(len(frase))"
   ]
  },
  {
   "cell_type": "markdown",
   "id": "f1df423a-ee8d-4d21-975d-cedf67a2fdd4",
   "metadata": {},
   "source": [
    "### Método split()"
   ]
  },
  {
   "cell_type": "code",
   "execution_count": 35,
   "id": "47bbbc47-4fd5-4bef-b85c-3d5491990dc1",
   "metadata": {},
   "outputs": [
    {
     "data": {
      "text/plain": [
       "['cadenas', 'en', 'Python']"
      ]
     },
     "execution_count": 35,
     "metadata": {},
     "output_type": "execute_result"
    }
   ],
   "source": [
    "frase.split()"
   ]
  },
  {
   "cell_type": "code",
   "execution_count": 36,
   "id": "a879e952-453e-4145-b9f5-1c33b9d0b8f1",
   "metadata": {},
   "outputs": [
    {
     "name": "stdout",
     "output_type": "stream",
     "text": [
      "['Hola', 'mundo,', 'bienvenidos', 'al', 'bootcamp', 'de', 'Python']\n"
     ]
    }
   ],
   "source": [
    "texto = \"Hola mundo, bienvenidos al bootcamp de Python\"\n",
    "resultado = texto.split()\n",
    "print(resultado)"
   ]
  },
  {
   "cell_type": "code",
   "execution_count": 38,
   "id": "7adb42ee-28d9-4efe-95f9-7e89d6109b18",
   "metadata": {},
   "outputs": [
    {
     "name": "stdout",
     "output_type": "stream",
     "text": [
      "['Banana', 'manzana', 'uva', 'fresa', 'naranja']\n"
     ]
    }
   ],
   "source": [
    "texto = \"Banana,manzana,uva,fresa,naranja\"\n",
    "resultado = texto.split(',')\n",
    "print(resultado)"
   ]
  },
  {
   "cell_type": "code",
   "execution_count": 43,
   "id": "f654f948-6092-4268-b871-2e157c2f1758",
   "metadata": {},
   "outputs": [
    {
     "name": "stdout",
     "output_type": "stream",
     "text": [
      "['Banana', 'manzana', 'uva', 'fresa, naranja']\n"
     ]
    }
   ],
   "source": [
    "texto = \"Banana, manzana, uva, fresa, naranja\"\n",
    "resultado = texto.split(', ', 3)\n",
    "print(resultado)"
   ]
  },
  {
   "cell_type": "markdown",
   "id": "ca13bd4e-f9e5-4ea4-87ef-fbbd753566ae",
   "metadata": {},
   "source": [
    "## Actividad 5"
   ]
  },
  {
   "cell_type": "code",
   "execution_count": 46,
   "id": "58b5623f-cc71-47d7-b2ad-5a7b73a3cc59",
   "metadata": {},
   "outputs": [
    {
     "name": "stdout",
     "output_type": "stream",
     "text": [
      "hola Mundo\n"
     ]
    }
   ],
   "source": [
    "string = \"Hola Mundo\"\n",
    "lista = list(string)\n",
    "\n",
    "lista[0] = \"h\"\n",
    "nuevo_string = ''.join(lista)\n",
    "print(nuevo_string)"
   ]
  },
  {
   "cell_type": "code",
   "execution_count": 47,
   "id": "8c7d6ee9-746a-4c12-b1dd-ed869875f2cc",
   "metadata": {},
   "outputs": [
    {
     "name": "stdout",
     "output_type": "stream",
     "text": [
      "Hola Mundo\n"
     ]
    }
   ],
   "source": [
    "string = \"HolaMundo\"\n",
    "lista = list(string)\n",
    "\n",
    "lista.insert(4, \" \")\n",
    "\n",
    "nuevo_string = ''.join(lista)\n",
    "print(nuevo_string)"
   ]
  },
  {
   "cell_type": "code",
   "execution_count": 49,
   "id": "08b6c680-213b-42cb-9efd-f0a1b7e20334",
   "metadata": {},
   "outputs": [
    {
     "name": "stdout",
     "output_type": "stream",
     "text": [
      "HolaMundo\n"
     ]
    }
   ],
   "source": [
    "string = \"Hola Mundo\"\n",
    "lista = list(string)\n",
    "\n",
    "del lista[4]\n",
    "\n",
    "nuevo_string = ''.join(lista)\n",
    "print(nuevo_string)"
   ]
  },
  {
   "cell_type": "code",
   "execution_count": 50,
   "id": "f26866db-d6d4-427c-835e-ef0f71f70167",
   "metadata": {},
   "outputs": [
    {
     "name": "stdout",
     "output_type": "stream",
     "text": [
      " HMadlnoou\n"
     ]
    }
   ],
   "source": [
    "string = \"Hola Mundo\"\n",
    "lista = list(string)\n",
    "\n",
    "lista.sort()\n",
    "\n",
    "nuevo_string = ''.join(lista)\n",
    "print(nuevo_string)"
   ]
  },
  {
   "cell_type": "markdown",
   "id": "785e18fe-2818-4924-9193-2cb947dbde69",
   "metadata": {},
   "source": [
    "## Método apply()"
   ]
  },
  {
   "cell_type": "code",
   "execution_count": 52,
   "id": "2e728f39-1806-442f-842a-85552ef74759",
   "metadata": {},
   "outputs": [
    {
     "name": "stdout",
     "output_type": "stream",
     "text": [
      "   Celsius  Fahrenheit\n",
      "0        0        32.0\n",
      "1       20        68.0\n",
      "2       30        86.0\n",
      "3       40       104.0\n"
     ]
    }
   ],
   "source": [
    "import pandas as pd\n",
    "\n",
    "data = {'Celsius': [0, 20, 30, 40]}\n",
    "df = pd.DataFrame(data)\n",
    "\n",
    "def celsuis_a_fahrenheit(c):\n",
    "    return (c * 1.8) + 32\n",
    "\n",
    "df['Fahrenheit'] = df['Celsius'].apply(celsuis_a_fahrenheit)\n",
    "\n",
    "print(df)"
   ]
  },
  {
   "cell_type": "code",
   "execution_count": 53,
   "id": "dce5a2db-3b03-450c-8527-7ff8f2b7ce39",
   "metadata": {},
   "outputs": [
    {
     "name": "stdout",
     "output_type": "stream",
     "text": [
      "   Peso_kg  Altura_m        IMC\n",
      "0       70      1.75  22.857143\n",
      "1       80      1.80  24.691358\n",
      "2       90      1.65  33.057851\n",
      "3       95      1.93  25.504040\n"
     ]
    }
   ],
   "source": [
    "import pandas as pd\n",
    "\n",
    "data = {'Peso_kg': [70, 80, 90, 95],\n",
    "       'Altura_m': [1.75, 1.80, 1.65, 1.93]}\n",
    "df = pd.DataFrame(data)\n",
    "\n",
    "def calcular_imc(row):\n",
    "    peso = row['Peso_kg']\n",
    "    altura = row['Altura_m']\n",
    "    imc = peso / (altura ** 2)\n",
    "    return imc\n",
    "\n",
    "df['IMC'] = df.apply(calcular_imc, axis=1)\n",
    "print(df)"
   ]
  },
  {
   "cell_type": "markdown",
   "id": "a518ef39-891a-4b2b-ab28-5fdf1437e93c",
   "metadata": {},
   "source": [
    "## Ordenamiento y sorteo"
   ]
  },
  {
   "cell_type": "code",
   "execution_count": 54,
   "id": "fbf5c6e1-06aa-47a2-b113-de8c31aff8cd",
   "metadata": {},
   "outputs": [
    {
     "name": "stdout",
     "output_type": "stream",
     "text": [
      "Ascendente:  [1, 1, 2, 2, 3, 3, 4, 5, 5, 5, 6, 9]\n",
      "Descendiente:  [9, 6, 5, 5, 5, 4, 3, 3, 2, 2, 1, 1]\n"
     ]
    }
   ],
   "source": [
    "numeros = [3, 1, 4, 1, 5, 9, 2, 6, 5, 2, 3, 5]\n",
    "\n",
    "numeros_ordenados = sorted(numeros)\n",
    "print(\"Ascendente: \", numeros_ordenados)\n",
    "\n",
    "numeros_ordenados_desc = sorted(numeros, reverse=True)\n",
    "print(\"Descendiente: \", numeros_ordenados_desc)"
   ]
  },
  {
   "cell_type": "code",
   "execution_count": 55,
   "id": "82a3ec85-9c26-4a2f-b0b1-3b28ca949880",
   "metadata": {},
   "outputs": [
    {
     "name": "stdout",
     "output_type": "stream",
     "text": [
      "Alfabético ['banana', 'fresa', 'manzana', 'naranja', 'uva']\n",
      "Alfabético inverso ['uva', 'naranja', 'manzana', 'fresa', 'banana']\n"
     ]
    }
   ],
   "source": [
    "palabras = [\"banana\",\"uva\",\"manzana\",\"fresa\",\"naranja\"]\n",
    "\n",
    "palabras_ordenadas = sorted(palabras)\n",
    "print(\"Alfabético\", palabras_ordenadas)\n",
    "\n",
    "palabras_ordenadas_desc = sorted(palabras, reverse=True)\n",
    "\n",
    "print(\"Alfabético inverso\", palabras_ordenadas_desc)"
   ]
  },
  {
   "cell_type": "code",
   "execution_count": 59,
   "id": "13ee343a-8c7c-4376-b724-eb2588a2a751",
   "metadata": {},
   "outputs": [
    {
     "name": "stdout",
     "output_type": "stream",
     "text": [
      "Lista mezclada:  [9, 8, 2, 5, 6, 10, 4, 3, 7, 1]\n"
     ]
    }
   ],
   "source": [
    "# Sorteo: ordenar de forma aleatoria\n",
    "import random\n",
    "numeros = [1, 2, 3, 4, 5, 6, 7, 8, 9, 10]\n",
    "\n",
    "random.shuffle(numeros)\n",
    "print(\"Lista mezclada: \", numeros)"
   ]
  },
  {
   "cell_type": "markdown",
   "id": "8cb2a745-a28a-451e-97ac-55e8e73bdce1",
   "metadata": {},
   "source": [
    "## Actividad 7"
   ]
  },
  {
   "cell_type": "code",
   "execution_count": 71,
   "id": "4fab754b-ac0e-4f4a-ae92-c0c4d6fc61e7",
   "metadata": {},
   "outputs": [
    {
     "name": "stdout",
     "output_type": "stream",
     "text": [
      "Reporte ascendente por modelo:\n",
      "Marca: Honda, Modelo: Civic, Año: 2019, Precio: 220000\n",
      "Marca: Toyota, Modelo: Corolla, Año: 2020, Precio: 200000\n",
      "Marca: VW, Modelo: Jetta, Año: 2022, Precio: 240000\n",
      "Marca: Chevrolet, Modelo: Malibu, Año: 2018, Precio: 180000\n",
      "Marca: Ford, Modelo: Mustang, Año: 2021, Precio: 340000\n",
      "\n",
      "Reporte descendiente por modelo:\n",
      "Marca: Ford, Modelo: Mustang, Año: 2021, Precio: 340000\n",
      "Marca: Chevrolet, Modelo: Malibu, Año: 2018, Precio: 180000\n",
      "Marca: VW, Modelo: Jetta, Año: 2022, Precio: 240000\n",
      "Marca: Toyota, Modelo: Corolla, Año: 2020, Precio: 200000\n",
      "Marca: Honda, Modelo: Civic, Año: 2019, Precio: 220000\n"
     ]
    },
    {
     "name": "stdin",
     "output_type": "stream",
     "text": [
      "\n",
      "Ingrese el modelo que desea buscar:  CIVIC\n"
     ]
    },
    {
     "name": "stdout",
     "output_type": "stream",
     "text": [
      "\n",
      "Resultados de búsqueda para el modelo CIVIC: \n",
      "Marca: Honda, Modelo: Civic, Año: 2019, Precio: 220000\n"
     ]
    }
   ],
   "source": [
    "# a) Capturar el inventario\n",
    "inventario = [\n",
    "    {\"marca\": \"Toyota\", \"modelo\": \"Corolla\", \"año\": 2020, \"precio\": 200000},\n",
    "    {\"marca\": \"Honda\", \"modelo\": \"Civic\", \"año\": 2019, \"precio\": 220000},\n",
    "    {\"marca\": \"Ford\", \"modelo\": \"Mustang\", \"año\": 2021, \"precio\": 340000},\n",
    "    {\"marca\": \"Chevrolet\", \"modelo\": \"Malibu\", \"año\": 2018, \"precio\": 180000},\n",
    "    {\"marca\": \"VW\", \"modelo\": \"Jetta\", \"año\": 2022, \"precio\": 240000},\n",
    "]\n",
    "\n",
    "# b) Reporte ascendente\n",
    "reporte_ascendente_modelo = sorted(inventario, key=lambda x: x['modelo'])\n",
    "print(\"Reporte ascendente por modelo:\")\n",
    "for auto in reporte_ascendente_modelo:\n",
    "    print(f\"Marca: {auto['marca']}, Modelo: {auto['modelo']}, Año: {auto['año']}, Precio: {auto['precio']}\")\n",
    "\n",
    "# c) Reporte descendiente\n",
    "reporte_descendiente_modelo = sorted(inventario, key=lambda x: x['modelo'], reverse=True)\n",
    "print(\"\\nReporte descendiente por modelo:\")\n",
    "for auto in reporte_descendiente_modelo:\n",
    "    print(f\"Marca: {auto['marca']}, Modelo: {auto['modelo']}, Año: {auto['año']}, Precio: {auto['precio']}\")\n",
    "\n",
    "# d) Buscar automóviles por modelo\n",
    "def buscar_modelo(modelo_buscado, inventario):\n",
    "    resultados = [auto for auto in inventario if modelo_buscado.lower() in auto['modelo'].lower()]\n",
    "    return resultados\n",
    "\n",
    "modelo_buscado = input(\"\\nIngrese el modelo que desea buscar: \")\n",
    "resultado_busqueda = buscar_modelo(modelo_buscado, inventario)\n",
    "\n",
    "print(f\"\\nResultados de búsqueda para el modelo {modelo_buscado}: \")\n",
    "if resultado_busqueda:\n",
    "    for auto in resultado_busqueda:\n",
    "        print(f\"Marca: {auto['marca']}, Modelo: {auto['modelo']}, Año: {auto['año']}, Precio: {auto['precio']}\")\n",
    "else:\n",
    "    print(f\"No se encontró resultados para tu auto modelo: {modelo_buscado}\")"
   ]
  },
  {
   "cell_type": "code",
   "execution_count": null,
   "id": "223b5188-22c7-4256-9770-d80960d7cf01",
   "metadata": {},
   "outputs": [],
   "source": []
  }
 ],
 "metadata": {
  "kernelspec": {
   "display_name": "Python 3 (ipykernel)",
   "language": "python",
   "name": "python3"
  },
  "language_info": {
   "codemirror_mode": {
    "name": "ipython",
    "version": 3
   },
   "file_extension": ".py",
   "mimetype": "text/x-python",
   "name": "python",
   "nbconvert_exporter": "python",
   "pygments_lexer": "ipython3",
   "version": "3.12.2"
  }
 },
 "nbformat": 4,
 "nbformat_minor": 5
}
