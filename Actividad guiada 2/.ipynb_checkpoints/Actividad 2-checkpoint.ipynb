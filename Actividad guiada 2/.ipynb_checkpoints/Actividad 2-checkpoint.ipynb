{
 "cells": [
  {
   "cell_type": "markdown",
   "id": "cfa4deb3-49d0-496e-8711-b8ab2e783282",
   "metadata": {},
   "source": [
    "# Actividad guiada 2"
   ]
  },
  {
   "cell_type": "markdown",
   "id": "5d1e74ef-aa04-4d21-8b1b-6da0d72763e4",
   "metadata": {},
   "source": [
    "## Listas\n",
    "- Mutables: Los elementos pueden ser cambiados despues de la creación\n",
    "- Ordenadas: Mantienen un orden de inserción\n",
    "- Sintaxis: Se definen usando corchetes []\n",
    "## Tuplas\n",
    "- Inmutables: Una vez creadas, no se pueden modificar\n",
    "- Ordenadas: Mantienen un orden de inserción\n",
    "- Sintaxis: Se definen usando paréntesis ()\n",
    "## Diccionarios\n",
    "- Mutables: Los elementos pueden ser cambiados despues de la creación\n",
    "- Ordenadas segpún versión: en versiones superiores a 3.7 son ordenadas. \n",
    "- Sintaxis: Se definen usando llaves {}"
   ]
  },
  {
   "cell_type": "markdown",
   "id": "d9957def-2d11-4ff9-9b67-cd9b692359ef",
   "metadata": {},
   "source": [
    "## Listas"
   ]
  },
  {
   "cell_type": "code",
   "execution_count": 1,
   "id": "f50058d6-7ceb-49fb-9894-89d138ca61e7",
   "metadata": {},
   "outputs": [],
   "source": [
    "lista = [1, 2, 3, 4, 5]"
   ]
  },
  {
   "cell_type": "code",
   "execution_count": 3,
   "id": "d5a249ac-6368-461a-b889-0ddc0a2e5a18",
   "metadata": {},
   "outputs": [
    {
     "name": "stdout",
     "output_type": "stream",
     "text": [
      "5\n",
      "4\n",
      "3\n",
      "2\n",
      "1\n"
     ]
    }
   ],
   "source": [
    "print(lista[4])\n",
    "print(lista[3])\n",
    "print(lista[2])\n",
    "print(lista[1])\n",
    "print(lista[0])"
   ]
  },
  {
   "cell_type": "code",
   "execution_count": 4,
   "id": "37282f41-33c4-4903-b951-23bec38d44a7",
   "metadata": {},
   "outputs": [],
   "source": [
    "lista[2] = 25"
   ]
  },
  {
   "cell_type": "code",
   "execution_count": 6,
   "id": "e97f89e8-4079-459c-a86d-be4538831610",
   "metadata": {},
   "outputs": [
    {
     "name": "stdout",
     "output_type": "stream",
     "text": [
      "5\n",
      "4\n",
      "25\n",
      "2\n",
      "1\n"
     ]
    }
   ],
   "source": [
    "print(lista[4])\n",
    "print(lista[3])\n",
    "print(lista[2])\n",
    "print(lista[1])\n",
    "print(lista[0])"
   ]
  },
  {
   "cell_type": "code",
   "execution_count": 7,
   "id": "2f2b8c9f-ec95-46f9-ad7c-b3df25f07ac9",
   "metadata": {},
   "outputs": [
    {
     "name": "stdout",
     "output_type": "stream",
     "text": [
      "6\n",
      "5\n",
      "4\n",
      "25\n",
      "2\n",
      "1\n"
     ]
    }
   ],
   "source": [
    "lista.append(6)\n",
    "print(lista[5])\n",
    "print(lista[4])\n",
    "print(lista[3])\n",
    "print(lista[2])\n",
    "print(lista[1])\n",
    "print(lista[0])"
   ]
  },
  {
   "cell_type": "code",
   "execution_count": 8,
   "id": "68538fc5-ec0a-46d8-91a7-b10f332a5ab1",
   "metadata": {},
   "outputs": [],
   "source": [
    "lista.remove(25)"
   ]
  },
  {
   "cell_type": "code",
   "execution_count": 9,
   "id": "68122fec-5848-4694-a0ae-73c57b5e5346",
   "metadata": {},
   "outputs": [
    {
     "name": "stdout",
     "output_type": "stream",
     "text": [
      "4\n"
     ]
    }
   ],
   "source": [
    "print(lista[2])"
   ]
  },
  {
   "cell_type": "code",
   "execution_count": 11,
   "id": "f65fd1d1-6de0-4af4-9a11-9b65cb12a486",
   "metadata": {},
   "outputs": [
    {
     "name": "stdout",
     "output_type": "stream",
     "text": [
      "6\n",
      "5\n",
      "4\n",
      "2\n",
      "1\n"
     ]
    }
   ],
   "source": [
    "print(lista[4])\n",
    "print(lista[3])\n",
    "print(lista[2])\n",
    "print(lista[1])\n",
    "print(lista[0])"
   ]
  },
  {
   "cell_type": "code",
   "execution_count": 12,
   "id": "32a37f35-c8ad-4264-942d-35c78d638693",
   "metadata": {},
   "outputs": [
    {
     "name": "stdout",
     "output_type": "stream",
     "text": [
      "[1, 2, 4, 5, 6]\n"
     ]
    }
   ],
   "source": [
    "print(lista)"
   ]
  },
  {
   "cell_type": "code",
   "execution_count": 13,
   "id": "26f98cff-6c71-46a4-992f-58fe57446896",
   "metadata": {},
   "outputs": [
    {
     "data": {
      "text/plain": [
       "2"
      ]
     },
     "execution_count": 13,
     "metadata": {},
     "output_type": "execute_result"
    }
   ],
   "source": [
    "lista.pop(1)"
   ]
  },
  {
   "cell_type": "code",
   "execution_count": 14,
   "id": "13529b94-ffb0-44d6-963d-4d5a8d7a29ec",
   "metadata": {},
   "outputs": [
    {
     "name": "stdout",
     "output_type": "stream",
     "text": [
      "[1, 4, 5, 6]\n"
     ]
    }
   ],
   "source": [
    "print(lista)"
   ]
  },
  {
   "cell_type": "code",
   "execution_count": 15,
   "id": "d93e1aed-5912-4676-a9b1-031d8b8224a5",
   "metadata": {},
   "outputs": [
    {
     "data": {
      "text/plain": [
       "6"
      ]
     },
     "execution_count": 15,
     "metadata": {},
     "output_type": "execute_result"
    }
   ],
   "source": [
    "lista.pop()"
   ]
  },
  {
   "cell_type": "code",
   "execution_count": 16,
   "id": "3c7e2e3c-6a56-43ca-aba2-ba65c4c48afa",
   "metadata": {},
   "outputs": [
    {
     "name": "stdout",
     "output_type": "stream",
     "text": [
      "[1, 4, 5]\n"
     ]
    }
   ],
   "source": [
    "print(lista)"
   ]
  },
  {
   "cell_type": "code",
   "execution_count": 17,
   "id": "662cb84d-5306-4c08-907c-0249a6f896a4",
   "metadata": {},
   "outputs": [],
   "source": [
    "lista.append(2)"
   ]
  },
  {
   "cell_type": "code",
   "execution_count": 18,
   "id": "c33bab57-24c2-4bcb-a63a-df9c9fc6313f",
   "metadata": {},
   "outputs": [
    {
     "name": "stdout",
     "output_type": "stream",
     "text": [
      "[1, 4, 5, 2]\n"
     ]
    }
   ],
   "source": [
    "print(lista)"
   ]
  },
  {
   "cell_type": "code",
   "execution_count": 19,
   "id": "1396ed28-b0fc-45cd-b625-2c33415e835a",
   "metadata": {},
   "outputs": [],
   "source": [
    "lista.sort()"
   ]
  },
  {
   "cell_type": "code",
   "execution_count": 20,
   "id": "46b7b4fb-3413-4a59-b639-0ba06b90b51b",
   "metadata": {},
   "outputs": [
    {
     "name": "stdout",
     "output_type": "stream",
     "text": [
      "[1, 2, 4, 5]\n"
     ]
    }
   ],
   "source": [
    "print(lista)"
   ]
  },
  {
   "cell_type": "code",
   "execution_count": 21,
   "id": "277dc3e6-1f99-439c-bb37-7a9cb232b4be",
   "metadata": {},
   "outputs": [
    {
     "name": "stdout",
     "output_type": "stream",
     "text": [
      "[5, 4, 2, 1]\n"
     ]
    }
   ],
   "source": [
    "lista.reverse()\n",
    "print(lista)"
   ]
  },
  {
   "cell_type": "markdown",
   "id": "6bc17722-0d8b-472c-a661-69505ad05474",
   "metadata": {},
   "source": [
    "## Tuplas"
   ]
  },
  {
   "cell_type": "code",
   "execution_count": 22,
   "id": "ec5f0825-1085-4e41-9f32-17214ba21d9f",
   "metadata": {},
   "outputs": [],
   "source": [
    "tupla = (1, 2, 3, 4, 5)"
   ]
  },
  {
   "cell_type": "code",
   "execution_count": 23,
   "id": "9c01b8c4-3810-401b-93ae-b7e1ebf653bb",
   "metadata": {},
   "outputs": [
    {
     "name": "stdout",
     "output_type": "stream",
     "text": [
      "3\n"
     ]
    }
   ],
   "source": [
    "print(tupla[2])"
   ]
  },
  {
   "cell_type": "code",
   "execution_count": 25,
   "id": "d99eb2d4-e6ec-4e17-80cc-2e897f623ce2",
   "metadata": {},
   "outputs": [
    {
     "name": "stdout",
     "output_type": "stream",
     "text": [
      "(1, 2, 3, 4, 5)\n",
      "1 2 3 4 5\n"
     ]
    }
   ],
   "source": [
    "a, b, c, d, e = tupla\n",
    "print(tupla)\n",
    "print(a, b, c, d, e)"
   ]
  },
  {
   "cell_type": "code",
   "execution_count": 27,
   "id": "f30d8e65-7f8f-4d10-b97b-de64fe60991c",
   "metadata": {},
   "outputs": [
    {
     "data": {
      "text/plain": [
       "1"
      ]
     },
     "execution_count": 27,
     "metadata": {},
     "output_type": "execute_result"
    }
   ],
   "source": [
    "tupla.count(3)"
   ]
  },
  {
   "cell_type": "code",
   "execution_count": 28,
   "id": "5a718f5e-2b93-49f5-8ba4-6812ae44c6dc",
   "metadata": {},
   "outputs": [],
   "source": [
    "tupla2 = (1, 2, 3, 3, 4, 3, 5)"
   ]
  },
  {
   "cell_type": "code",
   "execution_count": 51,
   "id": "460f7566-d485-4d23-9af2-87057ea32927",
   "metadata": {},
   "outputs": [
    {
     "name": "stdout",
     "output_type": "stream",
     "text": [
      "(1, 2, 3, 3, 4, 3, 5)\n"
     ]
    },
    {
     "data": {
      "text/plain": [
       "3"
      ]
     },
     "execution_count": 51,
     "metadata": {},
     "output_type": "execute_result"
    }
   ],
   "source": [
    "print(tupla2)\n",
    "tupla2.count(3)"
   ]
  },
  {
   "cell_type": "code",
   "execution_count": 49,
   "id": "322079b9-54d3-46da-adac-1e48b4ba05ec",
   "metadata": {},
   "outputs": [
    {
     "name": "stdout",
     "output_type": "stream",
     "text": [
      "2\n"
     ]
    }
   ],
   "source": [
    "thistuple = (1, 3, 7, 8, 7, 5, 4, 6, 8, 5)\n",
    "x = thistuple.count(5)\n",
    "print(x)"
   ]
  },
  {
   "cell_type": "code",
   "execution_count": 30,
   "id": "fc3639c4-d5bf-4038-900e-5cbe7ee0ed0e",
   "metadata": {},
   "outputs": [
    {
     "data": {
      "text/plain": [
       "1"
      ]
     },
     "execution_count": 30,
     "metadata": {},
     "output_type": "execute_result"
    }
   ],
   "source": [
    "tupla.index(2)"
   ]
  },
  {
   "cell_type": "code",
   "execution_count": 33,
   "id": "75448fb7-1b5b-4f73-943c-9bb18c5abec2",
   "metadata": {},
   "outputs": [
    {
     "data": {
      "text/plain": [
       "3"
      ]
     },
     "execution_count": 33,
     "metadata": {},
     "output_type": "execute_result"
    }
   ],
   "source": [
    "tupla.index(4)"
   ]
  },
  {
   "cell_type": "code",
   "execution_count": 35,
   "id": "089e0a2e-52a5-4722-85bf-0a5b33de52b1",
   "metadata": {},
   "outputs": [
    {
     "name": "stdout",
     "output_type": "stream",
     "text": [
      "3\n",
      "4\n"
     ]
    }
   ],
   "source": [
    "print(tupla2[3])\n",
    "print(tupla2[4])"
   ]
  },
  {
   "cell_type": "markdown",
   "id": "3ecb0e4f-bfcb-4c07-94b6-2c3c77114908",
   "metadata": {},
   "source": [
    "## Diccionarios"
   ]
  },
  {
   "cell_type": "code",
   "execution_count": 37,
   "id": "100852d8-1bc2-401c-b5c0-ea83658e3d31",
   "metadata": {},
   "outputs": [],
   "source": [
    "diccionario = {\"nombre\": \"Ricardo\", \"edad\": 44, \"ciudad\": \"Querétaro\"}"
   ]
  },
  {
   "cell_type": "code",
   "execution_count": 38,
   "id": "bcf9ddf5-ea64-432b-8129-601d4a89ba5d",
   "metadata": {},
   "outputs": [
    {
     "name": "stdout",
     "output_type": "stream",
     "text": [
      "{'nombre': 'Ricardo', 'edad': 44, 'ciudad': 'Querétaro'}\n"
     ]
    }
   ],
   "source": [
    "print(diccionario)"
   ]
  },
  {
   "cell_type": "code",
   "execution_count": 39,
   "id": "7859bf5e-5b1e-4e90-afe6-aa36afa8e825",
   "metadata": {},
   "outputs": [],
   "source": [
    "diccionario[\"profesion\"] = \"Developer\""
   ]
  },
  {
   "cell_type": "code",
   "execution_count": 40,
   "id": "0fe28418-33d7-47be-a09b-1d9cf19f8ddc",
   "metadata": {},
   "outputs": [
    {
     "name": "stdout",
     "output_type": "stream",
     "text": [
      "{'nombre': 'Ricardo', 'edad': 44, 'ciudad': 'Querétaro', 'profesion': 'Developer'}\n"
     ]
    }
   ],
   "source": [
    "print(diccionario)"
   ]
  },
  {
   "cell_type": "code",
   "execution_count": 41,
   "id": "f2564979-b245-4251-bdfd-6be2526a96a0",
   "metadata": {},
   "outputs": [],
   "source": [
    "diccionario[\"edad\"] = 45"
   ]
  },
  {
   "cell_type": "code",
   "execution_count": 42,
   "id": "59c2bf48-225f-4947-84d5-4b248f6f4211",
   "metadata": {},
   "outputs": [
    {
     "name": "stdout",
     "output_type": "stream",
     "text": [
      "{'nombre': 'Ricardo', 'edad': 45, 'ciudad': 'Querétaro', 'profesion': 'Developer'}\n"
     ]
    }
   ],
   "source": [
    "print(diccionario)"
   ]
  },
  {
   "cell_type": "code",
   "execution_count": 43,
   "id": "c27a980e-a989-443b-8d11-2df975a0c52d",
   "metadata": {},
   "outputs": [],
   "source": [
    "del diccionario[\"ciudad\"]"
   ]
  },
  {
   "cell_type": "code",
   "execution_count": 44,
   "id": "2af5a7bd-f0d6-4925-bce5-e97716ccccc6",
   "metadata": {},
   "outputs": [
    {
     "name": "stdout",
     "output_type": "stream",
     "text": [
      "{'nombre': 'Ricardo', 'edad': 45, 'profesion': 'Developer'}\n"
     ]
    }
   ],
   "source": [
    "print(diccionario)"
   ]
  },
  {
   "cell_type": "code",
   "execution_count": 45,
   "id": "4cf4b9d2-efa6-4407-92c9-45266f4d9c4e",
   "metadata": {},
   "outputs": [
    {
     "data": {
      "text/plain": [
       "dict_keys(['nombre', 'edad', 'profesion'])"
      ]
     },
     "execution_count": 45,
     "metadata": {},
     "output_type": "execute_result"
    }
   ],
   "source": [
    "diccionario.keys()"
   ]
  },
  {
   "cell_type": "code",
   "execution_count": 46,
   "id": "d8441208-fade-4e85-afac-7d433bff03d3",
   "metadata": {},
   "outputs": [
    {
     "data": {
      "text/plain": [
       "dict_values(['Ricardo', 45, 'Developer'])"
      ]
     },
     "execution_count": 46,
     "metadata": {},
     "output_type": "execute_result"
    }
   ],
   "source": [
    "diccionario.values()"
   ]
  },
  {
   "cell_type": "code",
   "execution_count": 47,
   "id": "96adf3db-7d62-4888-9831-91efedd53485",
   "metadata": {},
   "outputs": [
    {
     "data": {
      "text/plain": [
       "dict_items([('nombre', 'Ricardo'), ('edad', 45), ('profesion', 'Developer')])"
      ]
     },
     "execution_count": 47,
     "metadata": {},
     "output_type": "execute_result"
    }
   ],
   "source": [
    "diccionario.items()"
   ]
  },
  {
   "cell_type": "code",
   "execution_count": null,
   "id": "35de1465-e429-4679-a9b3-19fcb36ab18b",
   "metadata": {},
   "outputs": [],
   "source": []
  }
 ],
 "metadata": {
  "kernelspec": {
   "display_name": "Python 3 (ipykernel)",
   "language": "python",
   "name": "python3"
  },
  "language_info": {
   "codemirror_mode": {
    "name": "ipython",
    "version": 3
   },
   "file_extension": ".py",
   "mimetype": "text/x-python",
   "name": "python",
   "nbconvert_exporter": "python",
   "pygments_lexer": "ipython3",
   "version": "3.12.3"
  }
 },
 "nbformat": 4,
 "nbformat_minor": 5
}
